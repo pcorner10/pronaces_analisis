{
 "cells": [
  {
   "cell_type": "markdown",
   "metadata": {},
   "source": [
    "# Procesamiento de datos de Sentinel-2"
   ]
  },
  {
   "cell_type": "markdown",
   "metadata": {},
   "source": [
    "## Librerías"
   ]
  },
  {
   "cell_type": "code",
   "execution_count": 19,
   "metadata": {},
   "outputs": [],
   "source": [
    "import pandas as pd\n",
    "import matplotlib.pyplot as plt\n",
    "import seaborn as sns\n",
    "import glob, os\n"
   ]
  },
  {
   "cell_type": "markdown",
   "metadata": {},
   "source": [
    "## Obtener los datos"
   ]
  },
  {
   "cell_type": "code",
   "execution_count": 62,
   "metadata": {},
   "outputs": [
    {
     "data": {
      "text/plain": [
       "['data/sentinel/states/sum\\\\CO_sum_2018-01-01.csv',\n",
       " 'data/sentinel/states/sum\\\\CO_sum_2019-01-01.csv',\n",
       " 'data/sentinel/states/sum\\\\CO_sum_2020-01-01.csv',\n",
       " 'data/sentinel/states/sum\\\\CO_sum_2021-01-01.csv',\n",
       " 'data/sentinel/states/sum\\\\CO_sum_2022-01-01.csv']"
      ]
     },
     "execution_count": 62,
     "metadata": {},
     "output_type": "execute_result"
    }
   ],
   "source": [
    "filesNacionalesMean = glob.glob(\"data/sentinel/states/mean/*.csv\")\n",
    "filesNacionalesSum = glob.glob(\"data/sentinel/states/sum/*.csv\")\n",
    "filesNacionalesSum[:5]"
   ]
  },
  {
   "cell_type": "markdown",
   "metadata": {},
   "source": [
    "### Diccionarios complementarios"
   ]
  },
  {
   "cell_type": "code",
   "execution_count": 39,
   "metadata": {},
   "outputs": [],
   "source": [
    "replace_emision = {\n",
    "  'pm10': '$PM_{10}$',\n",
    "  'pm2.5': '$PM_{2.5}$',\n",
    "  'co': '$CO$',\n",
    "  'nox':'$NO_x$',\n",
    "  'cov':'$COV$',\n",
    "  'nh3':'$NH_3$',\n",
    "  'so2':\"$SO_2$\",\n",
    "  'no2':\"$NO_2$\",\n",
    "  'o3':\"$O_3$\",\n",
    "  'hcho':\"$HCHO$\",\n",
    "}\n"
   ]
  },
  {
   "cell_type": "code",
   "execution_count": 64,
   "metadata": {},
   "outputs": [
    {
     "data": {
      "text/plain": [
       "'2018-01-01'"
      ]
     },
     "execution_count": 64,
     "metadata": {},
     "output_type": "execute_result"
    }
   ],
   "source": [
    "filesNacionalesSum[0].split(\"_\")[2][:10]"
   ]
  },
  {
   "cell_type": "markdown",
   "metadata": {},
   "source": [
    "## Preparar función de lectura"
   ]
  },
  {
   "cell_type": "code",
   "execution_count": 77,
   "metadata": {},
   "outputs": [],
   "source": [
    "def readFileSentinel(path, dfFull, kind):\n",
    "  cols_to_keep = ['ADM1_NAME',kind]\n",
    "  name_Quimico = path.split(\"\\\\\")[1].split(\"_\")[0].lower()\n",
    "  date = path.split(\"_\")[2][:10]\n",
    "\n",
    "  df = pd.read_csv(path)\n",
    "  df = df.drop(columns=[\"ADM1_CODE\",\"ADM0_CODE\",\"EXP1_YEAR\",\"system:index\",\"STR1_YEAR\",\"STATUS\",\"ADM0_NAME\",\"DISP_AREA\"])\n",
    "  #df.rename(columns={kind: replace_emision[name_Quimico]}, inplace=True)\n",
    "\n",
    "  df['date'] = date\n",
    "  df['quimico'] = replace_emision[name_Quimico]\n",
    "  # check if dfFull is empty\n",
    "  if dfFull.empty:\n",
    "    return df\n",
    "  \n",
    "  # merge dataframes by ADM1_NAME\n",
    "  dfFull = pd.concat([dfFull, df], axis=0, ignore_index=True)\n",
    "  \n",
    "  return dfFull"
   ]
  },
  {
   "cell_type": "code",
   "execution_count": null,
   "metadata": {},
   "outputs": [],
   "source": []
  },
  {
   "cell_type": "markdown",
   "metadata": {},
   "source": [
    "## Leer datos "
   ]
  },
  {
   "cell_type": "markdown",
   "metadata": {},
   "source": [
    "### Datos de acumulado (anuales por estado)"
   ]
  },
  {
   "cell_type": "code",
   "execution_count": 78,
   "metadata": {},
   "outputs": [
    {
     "data": {
      "text/html": [
       "<div>\n",
       "<style scoped>\n",
       "    .dataframe tbody tr th:only-of-type {\n",
       "        vertical-align: middle;\n",
       "    }\n",
       "\n",
       "    .dataframe tbody tr th {\n",
       "        vertical-align: top;\n",
       "    }\n",
       "\n",
       "    .dataframe thead th {\n",
       "        text-align: right;\n",
       "    }\n",
       "</style>\n",
       "<table border=\"1\" class=\"dataframe\">\n",
       "  <thead>\n",
       "    <tr style=\"text-align: right;\">\n",
       "      <th></th>\n",
       "      <th>sum</th>\n",
       "      <th>Shape_Leng</th>\n",
       "      <th>Shape_Area</th>\n",
       "      <th>ADM1_NAME</th>\n",
       "      <th>date</th>\n",
       "      <th>quimico</th>\n",
       "    </tr>\n",
       "  </thead>\n",
       "  <tbody>\n",
       "    <tr>\n",
       "      <th>0</th>\n",
       "      <td>3195.479256</td>\n",
       "      <td>2.805149</td>\n",
       "      <td>0.455086</td>\n",
       "      <td>Aguascalientes</td>\n",
       "      <td>2018-01-01</td>\n",
       "      <td>$CO$</td>\n",
       "    </tr>\n",
       "    <tr>\n",
       "      <th>1</th>\n",
       "      <td>75393.481781</td>\n",
       "      <td>31.487146</td>\n",
       "      <td>6.921294</td>\n",
       "      <td>Baja California</td>\n",
       "      <td>2018-01-01</td>\n",
       "      <td>$CO$</td>\n",
       "    </tr>\n",
       "    <tr>\n",
       "      <th>2</th>\n",
       "      <td>68894.335963</td>\n",
       "      <td>56.050239</td>\n",
       "      <td>6.405150</td>\n",
       "      <td>Baja California Sur</td>\n",
       "      <td>2018-01-01</td>\n",
       "      <td>$CO$</td>\n",
       "    </tr>\n",
       "    <tr>\n",
       "      <th>3</th>\n",
       "      <td>48385.760098</td>\n",
       "      <td>25.072991</td>\n",
       "      <td>4.888117</td>\n",
       "      <td>Campeche</td>\n",
       "      <td>2018-01-01</td>\n",
       "      <td>$CO$</td>\n",
       "    </tr>\n",
       "    <tr>\n",
       "      <th>4</th>\n",
       "      <td>59911.511820</td>\n",
       "      <td>15.500275</td>\n",
       "      <td>6.231878</td>\n",
       "      <td>Chiapas</td>\n",
       "      <td>2018-01-01</td>\n",
       "      <td>$CO$</td>\n",
       "    </tr>\n",
       "  </tbody>\n",
       "</table>\n",
       "</div>"
      ],
      "text/plain": [
       "            sum  Shape_Leng  Shape_Area            ADM1_NAME        date  \\\n",
       "0   3195.479256    2.805149    0.455086       Aguascalientes  2018-01-01   \n",
       "1  75393.481781   31.487146    6.921294      Baja California  2018-01-01   \n",
       "2  68894.335963   56.050239    6.405150  Baja California Sur  2018-01-01   \n",
       "3  48385.760098   25.072991    4.888117             Campeche  2018-01-01   \n",
       "4  59911.511820   15.500275    6.231878              Chiapas  2018-01-01   \n",
       "\n",
       "  quimico  \n",
       "0    $CO$  \n",
       "1    $CO$  \n",
       "2    $CO$  \n",
       "3    $CO$  \n",
       "4    $CO$  "
      ]
     },
     "execution_count": 78,
     "metadata": {},
     "output_type": "execute_result"
    }
   ],
   "source": [
    "dfFullSum = pd.DataFrame()\n",
    "\n",
    "for path in filesNacionalesSum:\n",
    "  \n",
    "  dfFullSum = readFileSentinel(path, dfFullSum, 'sum')\n",
    "  \n",
    "dfFullSum.head()"
   ]
  },
  {
   "cell_type": "markdown",
   "metadata": {},
   "source": [
    "## Datos de AGEBS (mensuales por ageb)"
   ]
  },
  {
   "cell_type": "code",
   "execution_count": 79,
   "metadata": {},
   "outputs": [
    {
     "data": {
      "text/plain": [
       "['data/sentinel/AGEBS/month\\\\sum_O3_2018-07-01.csv',\n",
       " 'data/sentinel/AGEBS/month\\\\sum_O3_2018-08-01.csv',\n",
       " 'data/sentinel/AGEBS/month\\\\sum_O3_2018-09-01.csv',\n",
       " 'data/sentinel/AGEBS/month\\\\sum_O3_2018-10-01.csv',\n",
       " 'data/sentinel/AGEBS/month\\\\sum_O3_2018-11-01.csv']"
      ]
     },
     "execution_count": 79,
     "metadata": {},
     "output_type": "execute_result"
    }
   ],
   "source": [
    "agebs_files = glob.glob(\"data/sentinel/AGEBS/month/*.csv\")\n",
    "agebs_files[:5]"
   ]
  },
  {
   "cell_type": "code",
   "execution_count": 90,
   "metadata": {},
   "outputs": [
    {
     "data": {
      "text/html": [
       "<div>\n",
       "<style scoped>\n",
       "    .dataframe tbody tr th:only-of-type {\n",
       "        vertical-align: middle;\n",
       "    }\n",
       "\n",
       "    .dataframe tbody tr th {\n",
       "        vertical-align: top;\n",
       "    }\n",
       "\n",
       "    .dataframe thead th {\n",
       "        text-align: right;\n",
       "    }\n",
       "</style>\n",
       "<table border=\"1\" class=\"dataframe\">\n",
       "  <thead>\n",
       "    <tr style=\"text-align: right;\">\n",
       "      <th></th>\n",
       "      <th>sum</th>\n",
       "      <th>CVE_LOC</th>\n",
       "      <th>CVE_MUN</th>\n",
       "      <th>CVE_ENT</th>\n",
       "      <th>CVEGEO</th>\n",
       "      <th>CVE_AGEB</th>\n",
       "      <th>quimico</th>\n",
       "      <th>date</th>\n",
       "    </tr>\n",
       "  </thead>\n",
       "  <tbody>\n",
       "    <tr>\n",
       "      <th>0</th>\n",
       "      <td>1.160822</td>\n",
       "      <td>1</td>\n",
       "      <td>1</td>\n",
       "      <td>6</td>\n",
       "      <td>0600100010081</td>\n",
       "      <td>0081</td>\n",
       "      <td>$O_3$</td>\n",
       "      <td>2022-04-01</td>\n",
       "    </tr>\n",
       "    <tr>\n",
       "      <th>1</th>\n",
       "      <td>0.520858</td>\n",
       "      <td>1</td>\n",
       "      <td>1</td>\n",
       "      <td>6</td>\n",
       "      <td>060010001019A</td>\n",
       "      <td>019A</td>\n",
       "      <td>$O_3$</td>\n",
       "      <td>2022-04-01</td>\n",
       "    </tr>\n",
       "    <tr>\n",
       "      <th>2</th>\n",
       "      <td>0.193654</td>\n",
       "      <td>1</td>\n",
       "      <td>1</td>\n",
       "      <td>6</td>\n",
       "      <td>0600100010359</td>\n",
       "      <td>0359</td>\n",
       "      <td>$O_3$</td>\n",
       "      <td>2022-04-01</td>\n",
       "    </tr>\n",
       "    <tr>\n",
       "      <th>3</th>\n",
       "      <td>1.726554</td>\n",
       "      <td>1</td>\n",
       "      <td>1</td>\n",
       "      <td>6</td>\n",
       "      <td>0600100010151</td>\n",
       "      <td>0151</td>\n",
       "      <td>$O_3$</td>\n",
       "      <td>2022-04-01</td>\n",
       "    </tr>\n",
       "    <tr>\n",
       "      <th>4</th>\n",
       "      <td>1.592069</td>\n",
       "      <td>1</td>\n",
       "      <td>1</td>\n",
       "      <td>6</td>\n",
       "      <td>0600100010166</td>\n",
       "      <td>0166</td>\n",
       "      <td>$O_3$</td>\n",
       "      <td>2022-04-01</td>\n",
       "    </tr>\n",
       "  </tbody>\n",
       "</table>\n",
       "</div>"
      ],
      "text/plain": [
       "        sum  CVE_LOC  CVE_MUN  CVE_ENT         CVEGEO CVE_AGEB quimico  \\\n",
       "0  1.160822        1        1        6  0600100010081     0081   $O_3$   \n",
       "1  0.520858        1        1        6  060010001019A     019A   $O_3$   \n",
       "2  0.193654        1        1        6  0600100010359     0359   $O_3$   \n",
       "3  1.726554        1        1        6  0600100010151     0151   $O_3$   \n",
       "4  1.592069        1        1        6  0600100010166     0166   $O_3$   \n",
       "\n",
       "         date  \n",
       "0  2022-04-01  \n",
       "1  2022-04-01  \n",
       "2  2022-04-01  \n",
       "3  2022-04-01  \n",
       "4  2022-04-01  "
      ]
     },
     "execution_count": 90,
     "metadata": {},
     "output_type": "execute_result"
    }
   ],
   "source": [
    "def readAgebMonthly(path, dfFull):\n",
    "  df = pd.read_csv(path)\n",
    "  df.drop(columns=[\"system:index\"], inplace=True)\n",
    "  name_Quimico = path.split(\"_\")[1].lower()\n",
    "  date = path.split(\"_\")[2][:10]\n",
    "  \n",
    "  df['quimico'] = replace_emision[name_Quimico]\n",
    "  df['date'] = date\n",
    "  \n",
    "  return df\n",
    "\n",
    "dfFullAgebs = pd.DataFrame()\n",
    "\n",
    "for path in agebs_files:\n",
    "  dfFullAgebs = readAgebMonthly(path, dfFullAgebs)\n",
    "dfFullAgebs.head()"
   ]
  },
  {
   "cell_type": "code",
   "execution_count": 87,
   "metadata": {},
   "outputs": [
    {
     "data": {
      "text/plain": [
       "'$CO$'"
      ]
     },
     "execution_count": 87,
     "metadata": {},
     "output_type": "execute_result"
    }
   ],
   "source": [
    "replace_emision['co']"
   ]
  },
  {
   "cell_type": "code",
   "execution_count": null,
   "metadata": {},
   "outputs": [],
   "source": []
  }
 ],
 "metadata": {
  "kernelspec": {
   "display_name": "Python 3.9.13 64-bit",
   "language": "python",
   "name": "python3"
  },
  "language_info": {
   "codemirror_mode": {
    "name": "ipython",
    "version": 3
   },
   "file_extension": ".py",
   "mimetype": "text/x-python",
   "name": "python",
   "nbconvert_exporter": "python",
   "pygments_lexer": "ipython3",
   "version": "3.9.13"
  },
  "orig_nbformat": 4,
  "vscode": {
   "interpreter": {
    "hash": "b1f8a6fcfad2dbcea449451b8abb957fc6ba936417d4b53d6b4b7c7246c13c98"
   }
  }
 },
 "nbformat": 4,
 "nbformat_minor": 2
}
