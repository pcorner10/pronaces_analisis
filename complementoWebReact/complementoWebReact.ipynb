{
 "cells": [
  {
   "cell_type": "code",
   "execution_count": 1,
   "metadata": {},
   "outputs": [],
   "source": [
    "import pandas as pd\n",
    "import geopandas as gpd\n",
    "import matplotlib.pyplot as plt\n",
    "import glob"
   ]
  },
  {
   "cell_type": "code",
   "execution_count": 4,
   "metadata": {},
   "outputs": [
    {
     "data": {
      "text/html": [
       "<div>\n",
       "<style scoped>\n",
       "    .dataframe tbody tr th:only-of-type {\n",
       "        vertical-align: middle;\n",
       "    }\n",
       "\n",
       "    .dataframe tbody tr th {\n",
       "        vertical-align: top;\n",
       "    }\n",
       "\n",
       "    .dataframe thead th {\n",
       "        text-align: right;\n",
       "    }\n",
       "</style>\n",
       "<table border=\"1\" class=\"dataframe\">\n",
       "  <thead>\n",
       "    <tr style=\"text-align: right;\">\n",
       "      <th></th>\n",
       "      <th>CVEGEO</th>\n",
       "      <th>CVE_ENT</th>\n",
       "      <th>CVE_MUN</th>\n",
       "      <th>CVE_LOC</th>\n",
       "      <th>CVE_AGEB</th>\n",
       "      <th>metrica</th>\n",
       "      <th>geometry</th>\n",
       "    </tr>\n",
       "  </thead>\n",
       "  <tbody>\n",
       "    <tr>\n",
       "      <th>0</th>\n",
       "      <td>060020001127A</td>\n",
       "      <td>06</td>\n",
       "      <td>002</td>\n",
       "      <td>0001</td>\n",
       "      <td>127A</td>\n",
       "      <td>0.551410</td>\n",
       "      <td>POLYGON ((-103.73577 19.24392, -103.73577 19.2...</td>\n",
       "    </tr>\n",
       "    <tr>\n",
       "      <th>1</th>\n",
       "      <td>0600200010731</td>\n",
       "      <td>06</td>\n",
       "      <td>002</td>\n",
       "      <td>0001</td>\n",
       "      <td>0731</td>\n",
       "      <td>0.541942</td>\n",
       "      <td>POLYGON ((-103.73430 19.24640, -103.73432 19.2...</td>\n",
       "    </tr>\n",
       "    <tr>\n",
       "      <th>2</th>\n",
       "      <td>0600200011513</td>\n",
       "      <td>06</td>\n",
       "      <td>002</td>\n",
       "      <td>0001</td>\n",
       "      <td>1513</td>\n",
       "      <td>0.539966</td>\n",
       "      <td>POLYGON ((-103.73608 19.24041, -103.73623 19.2...</td>\n",
       "    </tr>\n",
       "    <tr>\n",
       "      <th>3</th>\n",
       "      <td>0600200010746</td>\n",
       "      <td>06</td>\n",
       "      <td>002</td>\n",
       "      <td>0001</td>\n",
       "      <td>0746</td>\n",
       "      <td>0.504686</td>\n",
       "      <td>POLYGON ((-103.72441 19.23889, -103.72539 19.2...</td>\n",
       "    </tr>\n",
       "    <tr>\n",
       "      <th>4</th>\n",
       "      <td>0600200011176</td>\n",
       "      <td>06</td>\n",
       "      <td>002</td>\n",
       "      <td>0001</td>\n",
       "      <td>1176</td>\n",
       "      <td>0.499525</td>\n",
       "      <td>POLYGON ((-103.74281 19.24436, -103.74298 19.2...</td>\n",
       "    </tr>\n",
       "  </tbody>\n",
       "</table>\n",
       "</div>"
      ],
      "text/plain": [
       "          CVEGEO CVE_ENT CVE_MUN CVE_LOC CVE_AGEB   metrica  \\\n",
       "0  060020001127A      06     002    0001     127A  0.551410   \n",
       "1  0600200010731      06     002    0001     0731  0.541942   \n",
       "2  0600200011513      06     002    0001     1513  0.539966   \n",
       "3  0600200010746      06     002    0001     0746  0.504686   \n",
       "4  0600200011176      06     002    0001     1176  0.499525   \n",
       "\n",
       "                                            geometry  \n",
       "0  POLYGON ((-103.73577 19.24392, -103.73577 19.2...  \n",
       "1  POLYGON ((-103.73430 19.24640, -103.73432 19.2...  \n",
       "2  POLYGON ((-103.73608 19.24041, -103.73623 19.2...  \n",
       "3  POLYGON ((-103.72441 19.23889, -103.72539 19.2...  \n",
       "4  POLYGON ((-103.74281 19.24436, -103.74298 19.2...  "
      ]
     },
     "execution_count": 4,
     "metadata": {},
     "output_type": "execute_result"
    }
   ],
   "source": [
    "agebs_seleccionadas = gpd.read_file('geodata.gpkg')\n",
    "agebs_seleccionadas = agebs_seleccionadas.to_crs(\"EPSG:4326\")\n",
    "agebs_seleccionadas = agebs_seleccionadas[[\"CVEGEO\", \"CVE_ENT\", \"CVE_MUN\", \"CVE_LOC\", \"CVE_AGEB\", \"metrica\", \"geometry\"]]\n",
    "agebs_seleccionadas.head()"
   ]
  },
  {
   "cell_type": "code",
   "execution_count": 5,
   "metadata": {},
   "outputs": [
    {
     "data": {
      "text/plain": [
       "['060020001',\n",
       " '060050001',\n",
       " '060050018',\n",
       " '060070001',\n",
       " '060080001',\n",
       " '060090001',\n",
       " '060100001']"
      ]
     },
     "execution_count": 5,
     "metadata": {},
     "output_type": "execute_result"
    }
   ],
   "source": [
    "cve_geo = agebs_seleccionadas['CVEGEO']\n",
    "cve_geo = [x[:9] for x in cve_geo]\n",
    "\n",
    "cve_geo = list(set(cve_geo))\n",
    "cve_geo.sort()\n",
    "cve_geo\n"
   ]
  },
  {
   "cell_type": "code",
   "execution_count": 4,
   "metadata": {},
   "outputs": [
    {
     "data": {
      "text/plain": [
       "9"
      ]
     },
     "execution_count": 4,
     "metadata": {},
     "output_type": "execute_result"
    }
   ],
   "source": [
    "len(\"060010001\")"
   ]
  },
  {
   "cell_type": "code",
   "execution_count": 8,
   "metadata": {},
   "outputs": [
    {
     "data": {
      "text/plain": [
       "[]"
      ]
     },
     "execution_count": 8,
     "metadata": {},
     "output_type": "execute_result"
    }
   ],
   "source": [
    "ne = glob.glob(\"data/numeros_exteriores/*/*ne.shp\")\n",
    "m = glob.glob(\"data/numeros_exteriores/*/*[1-9]m.shp\")\n",
    "ne"
   ]
  },
  {
   "cell_type": "code",
   "execution_count": 7,
   "metadata": {},
   "outputs": [
    {
     "data": {
      "text/html": [
       "<div>\n",
       "<style scoped>\n",
       "    .dataframe tbody tr th:only-of-type {\n",
       "        vertical-align: middle;\n",
       "    }\n",
       "\n",
       "    .dataframe tbody tr th {\n",
       "        vertical-align: top;\n",
       "    }\n",
       "\n",
       "    .dataframe thead th {\n",
       "        text-align: right;\n",
       "    }\n",
       "</style>\n",
       "<table border=\"1\" class=\"dataframe\">\n",
       "  <thead>\n",
       "    <tr style=\"text-align: right;\">\n",
       "      <th></th>\n",
       "    </tr>\n",
       "  </thead>\n",
       "  <tbody>\n",
       "  </tbody>\n",
       "</table>\n",
       "</div>"
      ],
      "text/plain": [
       "Empty DataFrame\n",
       "Columns: []\n",
       "Index: []"
      ]
     },
     "execution_count": 7,
     "metadata": {},
     "output_type": "execute_result"
    }
   ],
   "source": [
    "ne_gpd = gpd.GeoDataFrame()\n",
    "\n",
    "for i in ne:\n",
    "\n",
    "    gpd_i = gpd.read_file(i)\n",
    "    gpd_i = gpd_i.to_crs(epsg=32213)\n",
    "\n",
    "    ne_gpd = pd.concat([ne_gpd, gpd_i])\n",
    "\n",
    "ne_gpd.head()"
   ]
  },
  {
   "cell_type": "code",
   "execution_count": null,
   "metadata": {},
   "outputs": [],
   "source": []
  },
  {
   "cell_type": "code",
   "execution_count": 7,
   "metadata": {},
   "outputs": [
    {
     "data": {
      "text/plain": [
       "Index(['GEOGRAFICO', 'CVEGEO', 'CODIGO', 'FECHAACT', 'INSTITUC', 'GEOMETRIA',\n",
       "       'geometry'],\n",
       "      dtype='object')"
      ]
     },
     "execution_count": 7,
     "metadata": {},
     "output_type": "execute_result"
    }
   ],
   "source": [
    "ne_gpd.columns"
   ]
  },
  {
   "cell_type": "code",
   "execution_count": 8,
   "metadata": {},
   "outputs": [
    {
     "data": {
      "text/plain": [
       "Index(['CVEGEO', 'NOM_ENT', 'NOM_MUN', 'NOM_LOC', 'CVE_AGEB', 'geometry'], dtype='object')"
      ]
     },
     "execution_count": 8,
     "metadata": {},
     "output_type": "execute_result"
    }
   ],
   "source": [
    "agebs_seleccionadas.columns"
   ]
  },
  {
   "cell_type": "code",
   "execution_count": 7,
   "metadata": {},
   "outputs": [
    {
     "name": "stderr",
     "output_type": "stream",
     "text": [
      "C:\\Users\\pedro\\AppData\\Roaming\\Python\\Python311\\site-packages\\IPython\\core\\interactiveshell.py:3448: FutureWarning: The `op` parameter is deprecated and will be removed in a future release. Please use the `predicate` parameter instead.\n",
      "  if await self.run_code(code, result, async_=asy):\n"
     ]
    },
    {
     "ename": "AttributeError",
     "evalue": "The CRS attribute of a GeoDataFrame without an active geometry column is not defined. Use GeoDataFrame.set_geometry to set the active geometry column.",
     "output_type": "error",
     "traceback": [
      "\u001b[1;31m---------------------------------------------------------------------------\u001b[0m",
      "\u001b[1;31mAttributeError\u001b[0m                            Traceback (most recent call last)",
      "File \u001b[1;32mc:\\Users\\pedro\\AppData\\Local\\Programs\\Python\\Python311\\Lib\\site-packages\\geopandas\\geodataframe.py:436\u001b[0m, in \u001b[0;36mGeoDataFrame.crs\u001b[1;34m(self)\u001b[0m\n\u001b[0;32m    435\u001b[0m \u001b[39mtry\u001b[39;00m:\n\u001b[1;32m--> 436\u001b[0m     \u001b[39mreturn\u001b[39;00m \u001b[39mself\u001b[39;49m\u001b[39m.\u001b[39;49mgeometry\u001b[39m.\u001b[39mcrs\n\u001b[0;32m    437\u001b[0m \u001b[39mexcept\u001b[39;00m \u001b[39mAttributeError\u001b[39;00m:\n",
      "File \u001b[1;32mc:\\Users\\pedro\\AppData\\Local\\Programs\\Python\\Python311\\Lib\\site-packages\\pandas\\core\\generic.py:5989\u001b[0m, in \u001b[0;36mNDFrame.__getattr__\u001b[1;34m(self, name)\u001b[0m\n\u001b[0;32m   5988\u001b[0m     \u001b[39mreturn\u001b[39;00m \u001b[39mself\u001b[39m[name]\n\u001b[1;32m-> 5989\u001b[0m \u001b[39mreturn\u001b[39;00m \u001b[39mobject\u001b[39;49m\u001b[39m.\u001b[39;49m\u001b[39m__getattribute__\u001b[39;49m(\u001b[39mself\u001b[39;49m, name)\n",
      "File \u001b[1;32mc:\\Users\\pedro\\AppData\\Local\\Programs\\Python\\Python311\\Lib\\site-packages\\geopandas\\geodataframe.py:235\u001b[0m, in \u001b[0;36mGeoDataFrame._get_geometry\u001b[1;34m(self)\u001b[0m\n\u001b[0;32m    229\u001b[0m         msg \u001b[39m+\u001b[39m\u001b[39m=\u001b[39m (\n\u001b[0;32m    230\u001b[0m             \u001b[39m\"\u001b[39m\u001b[39m\\n\u001b[39;00m\u001b[39mThere are no existing columns with geometry data type. You can \u001b[39m\u001b[39m\"\u001b[39m\n\u001b[0;32m    231\u001b[0m             \u001b[39m\"\u001b[39m\u001b[39madd a geometry column as the active geometry column with \u001b[39m\u001b[39m\"\u001b[39m\n\u001b[0;32m    232\u001b[0m             \u001b[39m\"\u001b[39m\u001b[39mdf.set_geometry. \u001b[39m\u001b[39m\"\u001b[39m\n\u001b[0;32m    233\u001b[0m         )\n\u001b[1;32m--> 235\u001b[0m     \u001b[39mraise\u001b[39;00m \u001b[39mAttributeError\u001b[39;00m(msg)\n\u001b[0;32m    236\u001b[0m \u001b[39mreturn\u001b[39;00m \u001b[39mself\u001b[39m[\u001b[39mself\u001b[39m\u001b[39m.\u001b[39m_geometry_column_name]\n",
      "\u001b[1;31mAttributeError\u001b[0m: You are calling a geospatial method on the GeoDataFrame, but the active geometry column to use has not been set. \nThere are no existing columns with geometry data type. You can add a geometry column as the active geometry column with df.set_geometry. ",
      "\nDuring handling of the above exception, another exception occurred:\n",
      "\u001b[1;31mAttributeError\u001b[0m                            Traceback (most recent call last)",
      "Cell \u001b[1;32mIn[7], line 2\u001b[0m\n\u001b[0;32m      1\u001b[0m \u001b[39m# keep elements from calles that intersect with agebs_seleccionadas\u001b[39;00m\n\u001b[1;32m----> 2\u001b[0m calles2 \u001b[39m=\u001b[39m gpd\u001b[39m.\u001b[39;49msjoin(ne_gpd, agebs_seleccionadas, how\u001b[39m=\u001b[39;49m\u001b[39m\"\u001b[39;49m\u001b[39minner\u001b[39;49m\u001b[39m\"\u001b[39;49m, op\u001b[39m=\u001b[39;49m\u001b[39m'\u001b[39;49m\u001b[39mintersects\u001b[39;49m\u001b[39m'\u001b[39;49m)\n\u001b[0;32m      3\u001b[0m calles2\u001b[39m.\u001b[39mhead()\n",
      "File \u001b[1;32mc:\\Users\\pedro\\AppData\\Local\\Programs\\Python\\Python311\\Lib\\site-packages\\geopandas\\tools\\sjoin.py:119\u001b[0m, in \u001b[0;36msjoin\u001b[1;34m(left_df, right_df, how, predicate, lsuffix, rsuffix, **kwargs)\u001b[0m\n\u001b[0;32m    116\u001b[0m     first \u001b[39m=\u001b[39m \u001b[39mnext\u001b[39m(\u001b[39miter\u001b[39m(kwargs\u001b[39m.\u001b[39mkeys()))\n\u001b[0;32m    117\u001b[0m     \u001b[39mraise\u001b[39;00m \u001b[39mTypeError\u001b[39;00m(\u001b[39mf\u001b[39m\u001b[39m\"\u001b[39m\u001b[39msjoin() got an unexpected keyword argument \u001b[39m\u001b[39m'\u001b[39m\u001b[39m{\u001b[39;00mfirst\u001b[39m}\u001b[39;00m\u001b[39m'\u001b[39m\u001b[39m\"\u001b[39m)\n\u001b[1;32m--> 119\u001b[0m _basic_checks(left_df, right_df, how, lsuffix, rsuffix)\n\u001b[0;32m    121\u001b[0m indices \u001b[39m=\u001b[39m _geom_predicate_query(left_df, right_df, predicate)\n\u001b[0;32m    123\u001b[0m joined \u001b[39m=\u001b[39m _frame_join(indices, left_df, right_df, how, lsuffix, rsuffix)\n",
      "File \u001b[1;32mc:\\Users\\pedro\\AppData\\Local\\Programs\\Python\\Python311\\Lib\\site-packages\\geopandas\\tools\\sjoin.py:162\u001b[0m, in \u001b[0;36m_basic_checks\u001b[1;34m(left_df, right_df, how, lsuffix, rsuffix)\u001b[0m\n\u001b[0;32m    157\u001b[0m \u001b[39mif\u001b[39;00m how \u001b[39mnot\u001b[39;00m \u001b[39min\u001b[39;00m allowed_hows:\n\u001b[0;32m    158\u001b[0m     \u001b[39mraise\u001b[39;00m \u001b[39mValueError\u001b[39;00m(\n\u001b[0;32m    159\u001b[0m         \u001b[39m'\u001b[39m\u001b[39m`how` was \u001b[39m\u001b[39m\"\u001b[39m\u001b[39m{}\u001b[39;00m\u001b[39m\"\u001b[39m\u001b[39m but is expected to be in \u001b[39m\u001b[39m{}\u001b[39;00m\u001b[39m'\u001b[39m\u001b[39m.\u001b[39mformat(how, allowed_hows)\n\u001b[0;32m    160\u001b[0m     )\n\u001b[1;32m--> 162\u001b[0m \u001b[39mif\u001b[39;00m \u001b[39mnot\u001b[39;00m _check_crs(left_df, right_df):\n\u001b[0;32m    163\u001b[0m     _crs_mismatch_warn(left_df, right_df, stacklevel\u001b[39m=\u001b[39m\u001b[39m4\u001b[39m)\n\u001b[0;32m    165\u001b[0m index_left \u001b[39m=\u001b[39m \u001b[39m\"\u001b[39m\u001b[39mindex_\u001b[39m\u001b[39m{}\u001b[39;00m\u001b[39m\"\u001b[39m\u001b[39m.\u001b[39mformat(lsuffix)\n",
      "File \u001b[1;32mc:\\Users\\pedro\\AppData\\Local\\Programs\\Python\\Python311\\Lib\\site-packages\\geopandas\\array.py:71\u001b[0m, in \u001b[0;36m_check_crs\u001b[1;34m(left, right, allow_none)\u001b[0m\n\u001b[0;32m     69\u001b[0m     \u001b[39mif\u001b[39;00m \u001b[39mnot\u001b[39;00m left\u001b[39m.\u001b[39mcrs \u001b[39mor\u001b[39;00m \u001b[39mnot\u001b[39;00m right\u001b[39m.\u001b[39mcrs:\n\u001b[0;32m     70\u001b[0m         \u001b[39mreturn\u001b[39;00m \u001b[39mTrue\u001b[39;00m\n\u001b[1;32m---> 71\u001b[0m \u001b[39mif\u001b[39;00m \u001b[39mnot\u001b[39;00m left\u001b[39m.\u001b[39;49mcrs \u001b[39m==\u001b[39m right\u001b[39m.\u001b[39mcrs:\n\u001b[0;32m     72\u001b[0m     \u001b[39mreturn\u001b[39;00m \u001b[39mFalse\u001b[39;00m\n\u001b[0;32m     73\u001b[0m \u001b[39mreturn\u001b[39;00m \u001b[39mTrue\u001b[39;00m\n",
      "File \u001b[1;32mc:\\Users\\pedro\\AppData\\Local\\Programs\\Python\\Python311\\Lib\\site-packages\\pandas\\core\\generic.py:5989\u001b[0m, in \u001b[0;36mNDFrame.__getattr__\u001b[1;34m(self, name)\u001b[0m\n\u001b[0;32m   5982\u001b[0m \u001b[39mif\u001b[39;00m (\n\u001b[0;32m   5983\u001b[0m     name \u001b[39mnot\u001b[39;00m \u001b[39min\u001b[39;00m \u001b[39mself\u001b[39m\u001b[39m.\u001b[39m_internal_names_set\n\u001b[0;32m   5984\u001b[0m     \u001b[39mand\u001b[39;00m name \u001b[39mnot\u001b[39;00m \u001b[39min\u001b[39;00m \u001b[39mself\u001b[39m\u001b[39m.\u001b[39m_metadata\n\u001b[0;32m   5985\u001b[0m     \u001b[39mand\u001b[39;00m name \u001b[39mnot\u001b[39;00m \u001b[39min\u001b[39;00m \u001b[39mself\u001b[39m\u001b[39m.\u001b[39m_accessors\n\u001b[0;32m   5986\u001b[0m     \u001b[39mand\u001b[39;00m \u001b[39mself\u001b[39m\u001b[39m.\u001b[39m_info_axis\u001b[39m.\u001b[39m_can_hold_identifiers_and_holds_name(name)\n\u001b[0;32m   5987\u001b[0m ):\n\u001b[0;32m   5988\u001b[0m     \u001b[39mreturn\u001b[39;00m \u001b[39mself\u001b[39m[name]\n\u001b[1;32m-> 5989\u001b[0m \u001b[39mreturn\u001b[39;00m \u001b[39mobject\u001b[39;49m\u001b[39m.\u001b[39;49m\u001b[39m__getattribute__\u001b[39;49m(\u001b[39mself\u001b[39;49m, name)\n",
      "File \u001b[1;32mc:\\Users\\pedro\\AppData\\Local\\Programs\\Python\\Python311\\Lib\\site-packages\\geopandas\\geodataframe.py:438\u001b[0m, in \u001b[0;36mGeoDataFrame.crs\u001b[1;34m(self)\u001b[0m\n\u001b[0;32m    436\u001b[0m     \u001b[39mreturn\u001b[39;00m \u001b[39mself\u001b[39m\u001b[39m.\u001b[39mgeometry\u001b[39m.\u001b[39mcrs\n\u001b[0;32m    437\u001b[0m \u001b[39mexcept\u001b[39;00m \u001b[39mAttributeError\u001b[39;00m:\n\u001b[1;32m--> 438\u001b[0m     \u001b[39mraise\u001b[39;00m \u001b[39mAttributeError\u001b[39;00m(\n\u001b[0;32m    439\u001b[0m         \u001b[39m\"\u001b[39m\u001b[39mThe CRS attribute of a GeoDataFrame without an active \u001b[39m\u001b[39m\"\u001b[39m\n\u001b[0;32m    440\u001b[0m         \u001b[39m\"\u001b[39m\u001b[39mgeometry column is not defined. Use GeoDataFrame.set_geometry \u001b[39m\u001b[39m\"\u001b[39m\n\u001b[0;32m    441\u001b[0m         \u001b[39m\"\u001b[39m\u001b[39mto set the active geometry column.\u001b[39m\u001b[39m\"\u001b[39m\n\u001b[0;32m    442\u001b[0m     )\n",
      "\u001b[1;31mAttributeError\u001b[0m: The CRS attribute of a GeoDataFrame without an active geometry column is not defined. Use GeoDataFrame.set_geometry to set the active geometry column."
     ]
    }
   ],
   "source": [
    "# keep elements from calles that intersect with agebs_seleccionadas\n",
    "calles2 = gpd.sjoin(ne_gpd, agebs_seleccionadas, how=\"inner\", op='intersects')\n",
    "calles2.head()"
   ]
  },
  {
   "cell_type": "code",
   "execution_count": 10,
   "metadata": {},
   "outputs": [
    {
     "data": {
      "image/png": "[encoded data removed]",
      "text/plain": [
       "<Figure size 1000x1000 with 1 Axes>"
      ]
     },
     "metadata": {},
     "output_type": "display_data"
    }
   ],
   "source": [
    "fig, ax = plt.subplots(figsize=(10,10))\n",
    "\n",
    "calles2.plot(ax=ax, color='grey', alpha=0.5)\n",
    "#agebs_seleccionadas.plot(ax=ax, color='red', alpha=0.5)\n",
    "plt.show()"
   ]
  },
  {
   "cell_type": "code",
   "execution_count": null,
   "metadata": {},
   "outputs": [],
   "source": []
  },
  {
   "cell_type": "code",
   "execution_count": 11,
   "metadata": {},
   "outputs": [
    {
     "name": "stdout",
     "output_type": "stream",
     "text": [
      "<class 'geopandas.geodataframe.GeoDataFrame'>\n",
      "Index: 855 entries, 424 to 1960\n",
      "Data columns (total 13 columns):\n",
      " #   Column        Non-Null Count  Dtype   \n",
      "---  ------        --------------  -----   \n",
      " 0   GEOGRAFICO    855 non-null    object  \n",
      " 1   CVEGEO_left   855 non-null    object  \n",
      " 2   CODIGO        855 non-null    int64   \n",
      " 3   FECHAACT      855 non-null    object  \n",
      " 4   INSTITUC      855 non-null    object  \n",
      " 5   GEOMETRIA     855 non-null    object  \n",
      " 6   geometry      855 non-null    geometry\n",
      " 7   index_right   855 non-null    int64   \n",
      " 8   CVEGEO_right  855 non-null    object  \n",
      " 9   NOM_ENT       855 non-null    object  \n",
      " 10  NOM_MUN       855 non-null    object  \n",
      " 11  NOM_LOC       855 non-null    object  \n",
      " 12  CVE_AGEB      855 non-null    object  \n",
      "dtypes: geometry(1), int64(2), object(10)\n",
      "memory usage: 93.5+ KB\n"
     ]
    }
   ],
   "source": [
    "calles2.info()"
   ]
  },
  {
   "cell_type": "code",
   "execution_count": 18,
   "metadata": {},
   "outputs": [],
   "source": [
    "calles2[\"CVE_MANZANA\"] = calles2[\"CVEGEO_left\"].str[-3:]"
   ]
  },
  {
   "cell_type": "code",
   "execution_count": 19,
   "metadata": {},
   "outputs": [
    {
     "data": {
      "text/html": [
       "<div>\n",
       "<style scoped>\n",
       "    .dataframe tbody tr th:only-of-type {\n",
       "        vertical-align: middle;\n",
       "    }\n",
       "\n",
       "    .dataframe tbody tr th {\n",
       "        vertical-align: top;\n",
       "    }\n",
       "\n",
       "    .dataframe thead th {\n",
       "        text-align: right;\n",
       "    }\n",
       "</style>\n",
       "<table border=\"1\" class=\"dataframe\">\n",
       "  <thead>\n",
       "    <tr style=\"text-align: right;\">\n",
       "      <th></th>\n",
       "      <th>GEOGRAFICO</th>\n",
       "      <th>CVEGEO_left</th>\n",
       "      <th>CODIGO</th>\n",
       "      <th>FECHAACT</th>\n",
       "      <th>INSTITUC</th>\n",
       "      <th>GEOMETRIA</th>\n",
       "      <th>geometry</th>\n",
       "      <th>index_right</th>\n",
       "      <th>CVEGEO_right</th>\n",
       "      <th>NOM_ENT</th>\n",
       "      <th>NOM_MUN</th>\n",
       "      <th>NOM_LOC</th>\n",
       "      <th>CVE_AGEB</th>\n",
       "      <th>CVE_MANZANA</th>\n",
       "    </tr>\n",
       "  </thead>\n",
       "  <tbody>\n",
       "    <tr>\n",
       "      <th>424</th>\n",
       "      <td>MANZANA</td>\n",
       "      <td>0600200010731005</td>\n",
       "      <td>6635</td>\n",
       "      <td>12/2007</td>\n",
       "      <td>INEGI</td>\n",
       "      <td>ÁREA</td>\n",
       "      <td>POLYGON ((632886.958 2128605.709, 632793.588 2...</td>\n",
       "      <td>1</td>\n",
       "      <td>0600200010731</td>\n",
       "      <td>Colima</td>\n",
       "      <td>Colima</td>\n",
       "      <td>Colima</td>\n",
       "      <td>0731</td>\n",
       "      <td>005</td>\n",
       "    </tr>\n",
       "    <tr>\n",
       "      <th>426</th>\n",
       "      <td>MANZANA</td>\n",
       "      <td>0600200010731016</td>\n",
       "      <td>6635</td>\n",
       "      <td>12/2007</td>\n",
       "      <td>INEGI</td>\n",
       "      <td>ÁREA</td>\n",
       "      <td>POLYGON ((632415.018 2128767.958, 632395.268 2...</td>\n",
       "      <td>1</td>\n",
       "      <td>0600200010731</td>\n",
       "      <td>Colima</td>\n",
       "      <td>Colima</td>\n",
       "      <td>Colima</td>\n",
       "      <td>0731</td>\n",
       "      <td>016</td>\n",
       "    </tr>\n",
       "    <tr>\n",
       "      <th>428</th>\n",
       "      <td>MANZANA</td>\n",
       "      <td>0600200010731013</td>\n",
       "      <td>6635</td>\n",
       "      <td>12/2007</td>\n",
       "      <td>INEGI</td>\n",
       "      <td>ÁREA</td>\n",
       "      <td>POLYGON ((632499.268 2128781.458, 632419.518 2...</td>\n",
       "      <td>1</td>\n",
       "      <td>0600200010731</td>\n",
       "      <td>Colima</td>\n",
       "      <td>Colima</td>\n",
       "      <td>Colima</td>\n",
       "      <td>0731</td>\n",
       "      <td>013</td>\n",
       "    </tr>\n",
       "    <tr>\n",
       "      <th>430</th>\n",
       "      <td>MANZANA</td>\n",
       "      <td>0600200010731010</td>\n",
       "      <td>6635</td>\n",
       "      <td>12/2007</td>\n",
       "      <td>INEGI</td>\n",
       "      <td>ÁREA</td>\n",
       "      <td>POLYGON ((632525.018 2128812.708, 632506.838 2...</td>\n",
       "      <td>1</td>\n",
       "      <td>0600200010731</td>\n",
       "      <td>Colima</td>\n",
       "      <td>Colima</td>\n",
       "      <td>Colima</td>\n",
       "      <td>0731</td>\n",
       "      <td>010</td>\n",
       "    </tr>\n",
       "    <tr>\n",
       "      <th>432</th>\n",
       "      <td>MANZANA</td>\n",
       "      <td>0600200010731035</td>\n",
       "      <td>6635</td>\n",
       "      <td>12/2007</td>\n",
       "      <td>INEGI</td>\n",
       "      <td>ÁREA</td>\n",
       "      <td>POLYGON ((632703.338 2128397.209, 632547.338 2...</td>\n",
       "      <td>1</td>\n",
       "      <td>0600200010731</td>\n",
       "      <td>Colima</td>\n",
       "      <td>Colima</td>\n",
       "      <td>Colima</td>\n",
       "      <td>0731</td>\n",
       "      <td>035</td>\n",
       "    </tr>\n",
       "  </tbody>\n",
       "</table>\n",
       "</div>"
      ],
      "text/plain": [
       "    GEOGRAFICO       CVEGEO_left  CODIGO FECHAACT INSTITUC GEOMETRIA  \\\n",
       "424    MANZANA  0600200010731005    6635  12/2007    INEGI      ÁREA   \n",
       "426    MANZANA  0600200010731016    6635  12/2007    INEGI      ÁREA   \n",
       "428    MANZANA  0600200010731013    6635  12/2007    INEGI      ÁREA   \n",
       "430    MANZANA  0600200010731010    6635  12/2007    INEGI      ÁREA   \n",
       "432    MANZANA  0600200010731035    6635  12/2007    INEGI      ÁREA   \n",
       "\n",
       "                                              geometry  index_right  \\\n",
       "424  POLYGON ((632886.958 2128605.709, 632793.588 2...            1   \n",
       "426  POLYGON ((632415.018 2128767.958, 632395.268 2...            1   \n",
       "428  POLYGON ((632499.268 2128781.458, 632419.518 2...            1   \n",
       "430  POLYGON ((632525.018 2128812.708, 632506.838 2...            1   \n",
       "432  POLYGON ((632703.338 2128397.209, 632547.338 2...            1   \n",
       "\n",
       "      CVEGEO_right NOM_ENT NOM_MUN NOM_LOC CVE_AGEB CVE_MANZANA  \n",
       "424  0600200010731  Colima  Colima  Colima     0731         005  \n",
       "426  0600200010731  Colima  Colima  Colima     0731         016  \n",
       "428  0600200010731  Colima  Colima  Colima     0731         013  \n",
       "430  0600200010731  Colima  Colima  Colima     0731         010  \n",
       "432  0600200010731  Colima  Colima  Colima     0731         035  "
      ]
     },
     "execution_count": 19,
     "metadata": {},
     "output_type": "execute_result"
    }
   ],
   "source": [
    "calles2.head()"
   ]
  },
  {
   "cell_type": "code",
   "execution_count": 20,
   "metadata": {},
   "outputs": [
    {
     "data": {
      "text/html": [
       "<div>\n",
       "<style scoped>\n",
       "    .dataframe tbody tr th:only-of-type {\n",
       "        vertical-align: middle;\n",
       "    }\n",
       "\n",
       "    .dataframe tbody tr th {\n",
       "        vertical-align: top;\n",
       "    }\n",
       "\n",
       "    .dataframe thead th {\n",
       "        text-align: right;\n",
       "    }\n",
       "</style>\n",
       "<table border=\"1\" class=\"dataframe\">\n",
       "  <thead>\n",
       "    <tr style=\"text-align: right;\">\n",
       "      <th></th>\n",
       "      <th>CVE_MANZANA</th>\n",
       "      <th>CVE_AGEB</th>\n",
       "      <th>NOM_LOC</th>\n",
       "      <th>NOM_MUN</th>\n",
       "      <th>CVEGEO_left</th>\n",
       "      <th>geometry</th>\n",
       "    </tr>\n",
       "  </thead>\n",
       "  <tbody>\n",
       "    <tr>\n",
       "      <th>424</th>\n",
       "      <td>005</td>\n",
       "      <td>0731</td>\n",
       "      <td>Colima</td>\n",
       "      <td>Colima</td>\n",
       "      <td>0600200010731005</td>\n",
       "      <td>POLYGON ((632886.958 2128605.709, 632793.588 2...</td>\n",
       "    </tr>\n",
       "    <tr>\n",
       "      <th>426</th>\n",
       "      <td>016</td>\n",
       "      <td>0731</td>\n",
       "      <td>Colima</td>\n",
       "      <td>Colima</td>\n",
       "      <td>0600200010731016</td>\n",
       "      <td>POLYGON ((632415.018 2128767.958, 632395.268 2...</td>\n",
       "    </tr>\n",
       "    <tr>\n",
       "      <th>428</th>\n",
       "      <td>013</td>\n",
       "      <td>0731</td>\n",
       "      <td>Colima</td>\n",
       "      <td>Colima</td>\n",
       "      <td>0600200010731013</td>\n",
       "      <td>POLYGON ((632499.268 2128781.458, 632419.518 2...</td>\n",
       "    </tr>\n",
       "    <tr>\n",
       "      <th>430</th>\n",
       "      <td>010</td>\n",
       "      <td>0731</td>\n",
       "      <td>Colima</td>\n",
       "      <td>Colima</td>\n",
       "      <td>0600200010731010</td>\n",
       "      <td>POLYGON ((632525.018 2128812.708, 632506.838 2...</td>\n",
       "    </tr>\n",
       "    <tr>\n",
       "      <th>432</th>\n",
       "      <td>035</td>\n",
       "      <td>0731</td>\n",
       "      <td>Colima</td>\n",
       "      <td>Colima</td>\n",
       "      <td>0600200010731035</td>\n",
       "      <td>POLYGON ((632703.338 2128397.209, 632547.338 2...</td>\n",
       "    </tr>\n",
       "    <tr>\n",
       "      <th>...</th>\n",
       "      <td>...</td>\n",
       "      <td>...</td>\n",
       "      <td>...</td>\n",
       "      <td>...</td>\n",
       "      <td>...</td>\n",
       "      <td>...</td>\n",
       "    </tr>\n",
       "    <tr>\n",
       "      <th>1945</th>\n",
       "      <td>006</td>\n",
       "      <td>0979</td>\n",
       "      <td>Ciudad de Villa de Álvarez</td>\n",
       "      <td>Villa de Álvarez</td>\n",
       "      <td>0601000010979006</td>\n",
       "      <td>POLYGON ((630879.122 2128291.556, 630879.605 2...</td>\n",
       "    </tr>\n",
       "    <tr>\n",
       "      <th>1946</th>\n",
       "      <td>001</td>\n",
       "      <td>0979</td>\n",
       "      <td>Ciudad de Villa de Álvarez</td>\n",
       "      <td>Villa de Álvarez</td>\n",
       "      <td>0601000010979001</td>\n",
       "      <td>POLYGON ((630935.603 2128285.965, 630930.902 2...</td>\n",
       "    </tr>\n",
       "    <tr>\n",
       "      <th>1947</th>\n",
       "      <td>008</td>\n",
       "      <td>0979</td>\n",
       "      <td>Ciudad de Villa de Álvarez</td>\n",
       "      <td>Villa de Álvarez</td>\n",
       "      <td>0601000010979008</td>\n",
       "      <td>POLYGON ((630942.358 2128340.614, 630944.846 2...</td>\n",
       "    </tr>\n",
       "    <tr>\n",
       "      <th>1948</th>\n",
       "      <td>007</td>\n",
       "      <td>0979</td>\n",
       "      <td>Ciudad de Villa de Álvarez</td>\n",
       "      <td>Villa de Álvarez</td>\n",
       "      <td>0601000010979007</td>\n",
       "      <td>POLYGON ((630893.974 2128345.423, 630895.040 2...</td>\n",
       "    </tr>\n",
       "    <tr>\n",
       "      <th>1960</th>\n",
       "      <td>009</td>\n",
       "      <td>0979</td>\n",
       "      <td>Ciudad de Villa de Álvarez</td>\n",
       "      <td>Villa de Álvarez</td>\n",
       "      <td>0601000010979009</td>\n",
       "      <td>POLYGON ((631267.050 2128260.920, 631184.874 2...</td>\n",
       "    </tr>\n",
       "  </tbody>\n",
       "</table>\n",
       "<p>855 rows × 6 columns</p>\n",
       "</div>"
      ],
      "text/plain": [
       "     CVE_MANZANA CVE_AGEB                     NOM_LOC           NOM_MUN  \\\n",
       "424          005     0731                      Colima            Colima   \n",
       "426          016     0731                      Colima            Colima   \n",
       "428          013     0731                      Colima            Colima   \n",
       "430          010     0731                      Colima            Colima   \n",
       "432          035     0731                      Colima            Colima   \n",
       "...          ...      ...                         ...               ...   \n",
       "1945         006     0979  Ciudad de Villa de Álvarez  Villa de Álvarez   \n",
       "1946         001     0979  Ciudad de Villa de Álvarez  Villa de Álvarez   \n",
       "1947         008     0979  Ciudad de Villa de Álvarez  Villa de Álvarez   \n",
       "1948         007     0979  Ciudad de Villa de Álvarez  Villa de Álvarez   \n",
       "1960         009     0979  Ciudad de Villa de Álvarez  Villa de Álvarez   \n",
       "\n",
       "           CVEGEO_left                                           geometry  \n",
       "424   0600200010731005  POLYGON ((632886.958 2128605.709, 632793.588 2...  \n",
       "426   0600200010731016  POLYGON ((632415.018 2128767.958, 632395.268 2...  \n",
       "428   0600200010731013  POLYGON ((632499.268 2128781.458, 632419.518 2...  \n",
       "430   0600200010731010  POLYGON ((632525.018 2128812.708, 632506.838 2...  \n",
       "432   0600200010731035  POLYGON ((632703.338 2128397.209, 632547.338 2...  \n",
       "...                ...                                                ...  \n",
       "1945  0601000010979006  POLYGON ((630879.122 2128291.556, 630879.605 2...  \n",
       "1946  0601000010979001  POLYGON ((630935.603 2128285.965, 630930.902 2...  \n",
       "1947  0601000010979008  POLYGON ((630942.358 2128340.614, 630944.846 2...  \n",
       "1948  0601000010979007  POLYGON ((630893.974 2128345.423, 630895.040 2...  \n",
       "1960  0601000010979009  POLYGON ((631267.050 2128260.920, 631184.874 2...  \n",
       "\n",
       "[855 rows x 6 columns]"
      ]
     },
     "execution_count": 20,
     "metadata": {},
     "output_type": "execute_result"
    }
   ],
   "source": [
    "columns_to_keep = ['CVE_MANZANA','CVE_AGEB','NOM_LOC', 'NOM_MUN',\"CVEGEO_left\",'geometry']\n",
    "calles3 = calles2[columns_to_keep]\n",
    "calles3"
   ]
  },
  {
   "cell_type": "code",
   "execution_count": 22,
   "metadata": {},
   "outputs": [],
   "source": [
    "calles3 = calles3.to_crs(epsg=4326)"
   ]
  },
  {
   "cell_type": "code",
   "execution_count": 21,
   "metadata": {},
   "outputs": [
    {
     "data": {
      "text/plain": [
       "NOM_LOC\n",
       "Ciudad de Villa de Álvarez    164\n",
       "Colima                        162\n",
       "Cuauhtémoc                    145\n",
       "Minatitlán                    129\n",
       "Manzanillo                    113\n",
       "Tecomán                       102\n",
       "Quesería                       40\n",
       "Name: count, dtype: int64"
      ]
     },
     "execution_count": 21,
     "metadata": {},
     "output_type": "execute_result"
    }
   ],
   "source": [
    "calles3[\"NOM_LOC\"].value_counts()"
   ]
  },
  {
   "cell_type": "code",
   "execution_count": 23,
   "metadata": {},
   "outputs": [
    {
     "name": "stdout",
     "output_type": "stream",
     "text": [
      "<class 'geopandas.geodataframe.GeoDataFrame'>\n",
      "Index: 855 entries, 424 to 1960\n",
      "Data columns (total 6 columns):\n",
      " #   Column       Non-Null Count  Dtype   \n",
      "---  ------       --------------  -----   \n",
      " 0   CVE_MANZANA  855 non-null    object  \n",
      " 1   CVE_AGEB     855 non-null    object  \n",
      " 2   NOM_LOC      855 non-null    object  \n",
      " 3   NOM_MUN      855 non-null    object  \n",
      " 4   CVEGEO_left  855 non-null    object  \n",
      " 5   geometry     855 non-null    geometry\n",
      "dtypes: geometry(1), object(5)\n",
      "memory usage: 46.8+ KB\n"
     ]
    }
   ],
   "source": [
    "calles3.info()"
   ]
  },
  {
   "cell_type": "code",
   "execution_count": 28,
   "metadata": {},
   "outputs": [
    {
     "data": {
      "text/plain": [
       "Index(['CVE_MANZANA', 'CVE_AGEB', 'NOM_LOC', 'NOM_MUN', 'CVEGEO_left',\n",
       "       'geometry'],\n",
       "      dtype='object')"
      ]
     },
     "execution_count": 28,
     "metadata": {},
     "output_type": "execute_result"
    }
   ],
   "source": [
    "calles3.columns "
   ]
  },
  {
   "cell_type": "code",
   "execution_count": 24,
   "metadata": {},
   "outputs": [],
   "source": [
    "# export calles3 to geojson\n",
    "calles3.to_file(\"data/calles3.geojson\", driver='GeoJSON')"
   ]
  },
  {
   "cell_type": "code",
   "execution_count": 27,
   "metadata": {},
   "outputs": [],
   "source": [
    "# export calles3 to json\n",
    "calles3.to_file(\"data/calles3.json\", orient=\"records\")"
   ]
  },
  {
   "cell_type": "code",
   "execution_count": null,
   "metadata": {},
   "outputs": [],
   "source": []
  }
 ],
 "metadata": {
  "kernelspec": {
   "display_name": "Python 3",
   "language": "python",
   "name": "python3"
  },
  "language_info": {
   "codemirror_mode": {
    "name": "ipython",
    "version": 3
   },
   "file_extension": ".py",
   "mimetype": "text/x-python",
   "name": "python",
   "nbconvert_exporter": "python",
   "pygments_lexer": "ipython3",
   "version": "3.11.4"
  },
  "orig_nbformat": 4
 },
 "nbformat": 4,
 "nbformat_minor": 2
}
