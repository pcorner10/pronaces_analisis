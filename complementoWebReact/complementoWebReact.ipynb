{
 "cells": [
  {
   "cell_type": "code",
   "execution_count": 1,
   "metadata": {},
   "outputs": [],
   "source": [
    "import pandas as pd\n",
    "import geopandas as gpd\n",
    "import matplotlib.pyplot as plt\n",
    "import glob"
   ]
  },
  {
   "cell_type": "code",
   "execution_count": 2,
   "metadata": {},
   "outputs": [
    {
     "data": {
      "text/html": [
       "<div>\n",
       "<style scoped>\n",
       "    .dataframe tbody tr th:only-of-type {\n",
       "        vertical-align: middle;\n",
       "    }\n",
       "\n",
       "    .dataframe tbody tr th {\n",
       "        vertical-align: top;\n",
       "    }\n",
       "\n",
       "    .dataframe thead th {\n",
       "        text-align: right;\n",
       "    }\n",
       "</style>\n",
       "<table border=\"1\" class=\"dataframe\">\n",
       "  <thead>\n",
       "    <tr style=\"text-align: right;\">\n",
       "      <th></th>\n",
       "      <th>CVEGEO</th>\n",
       "      <th>NOM_ENT</th>\n",
       "      <th>NOM_MUN</th>\n",
       "      <th>NOM_LOC</th>\n",
       "      <th>CVE_AGEB</th>\n",
       "      <th>geometry</th>\n",
       "    </tr>\n",
       "  </thead>\n",
       "  <tbody>\n",
       "    <tr>\n",
       "      <th>0</th>\n",
       "      <td>060020001127A</td>\n",
       "      <td>Colima</td>\n",
       "      <td>Colima</td>\n",
       "      <td>Colima</td>\n",
       "      <td>127A</td>\n",
       "      <td>POLYGON ((632857.181 2128295.295, 632857.309 2...</td>\n",
       "    </tr>\n",
       "    <tr>\n",
       "      <th>1</th>\n",
       "      <td>0600200010731</td>\n",
       "      <td>Colima</td>\n",
       "      <td>Colima</td>\n",
       "      <td>Colima</td>\n",
       "      <td>0731</td>\n",
       "      <td>POLYGON ((633010.285 2128570.832, 633007.707 2...</td>\n",
       "    </tr>\n",
       "    <tr>\n",
       "      <th>2</th>\n",
       "      <td>0600200011513</td>\n",
       "      <td>Colima</td>\n",
       "      <td>Colima</td>\n",
       "      <td>Colima</td>\n",
       "      <td>1513</td>\n",
       "      <td>POLYGON ((632827.412 2127906.118, 632812.594 2...</td>\n",
       "    </tr>\n",
       "    <tr>\n",
       "      <th>3</th>\n",
       "      <td>0600200010746</td>\n",
       "      <td>Colima</td>\n",
       "      <td>Colima</td>\n",
       "      <td>Colima</td>\n",
       "      <td>0746</td>\n",
       "      <td>POLYGON ((634055.869 2127746.835, 633952.189 2...</td>\n",
       "    </tr>\n",
       "    <tr>\n",
       "      <th>4</th>\n",
       "      <td>0600200011176</td>\n",
       "      <td>Colima</td>\n",
       "      <td>Colima</td>\n",
       "      <td>Colima</td>\n",
       "      <td>1176</td>\n",
       "      <td>POLYGON ((632117.398 2128338.269, 632099.312 2...</td>\n",
       "    </tr>\n",
       "  </tbody>\n",
       "</table>\n",
       "</div>"
      ],
      "text/plain": [
       "          CVEGEO NOM_ENT NOM_MUN NOM_LOC CVE_AGEB  \\\n",
       "0  060020001127A  Colima  Colima  Colima     127A   \n",
       "1  0600200010731  Colima  Colima  Colima     0731   \n",
       "2  0600200011513  Colima  Colima  Colima     1513   \n",
       "3  0600200010746  Colima  Colima  Colima     0746   \n",
       "4  0600200011176  Colima  Colima  Colima     1176   \n",
       "\n",
       "                                            geometry  \n",
       "0  POLYGON ((632857.181 2128295.295, 632857.309 2...  \n",
       "1  POLYGON ((633010.285 2128570.832, 633007.707 2...  \n",
       "2  POLYGON ((632827.412 2127906.118, 632812.594 2...  \n",
       "3  POLYGON ((634055.869 2127746.835, 633952.189 2...  \n",
       "4  POLYGON ((632117.398 2128338.269, 632099.312 2...  "
      ]
     },
     "execution_count": 2,
     "metadata": {},
     "output_type": "execute_result"
    }
   ],
   "source": [
    "agebs_seleccionadas = gpd.read_file('data/agebs_metricas.gpkg')\n",
    "agebs_seleccionadas.head()"
   ]
  },
  {
   "cell_type": "code",
   "execution_count": 3,
   "metadata": {},
   "outputs": [
    {
     "data": {
      "text/plain": [
       "['060020001',\n",
       " '060050001',\n",
       " '060050018',\n",
       " '060070001',\n",
       " '060080001',\n",
       " '060090001',\n",
       " '060100001']"
      ]
     },
     "execution_count": 3,
     "metadata": {},
     "output_type": "execute_result"
    }
   ],
   "source": [
    "cve_geo = agebs_seleccionadas['CVEGEO']\n",
    "cve_geo = [x[:9] for x in cve_geo]\n",
    "\n",
    "cve_geo = list(set(cve_geo))\n",
    "cve_geo.sort()\n",
    "cve_geo\n"
   ]
  },
  {
   "cell_type": "code",
   "execution_count": 4,
   "metadata": {},
   "outputs": [
    {
     "data": {
      "text/plain": [
       "9"
      ]
     },
     "execution_count": 4,
     "metadata": {},
     "output_type": "execute_result"
    }
   ],
   "source": [
    "len(\"060010001\")"
   ]
  },
  {
   "cell_type": "code",
   "execution_count": 5,
   "metadata": {},
   "outputs": [],
   "source": [
    "ne = glob.glob(\"data/numeros_exteriores/*/*ne.shp\")\n",
    "m = glob.glob(\"data/numeros_exteriores/*/*[1-9]m.shp\")\n"
   ]
  },
  {
   "cell_type": "code",
   "execution_count": 6,
   "metadata": {},
   "outputs": [
    {
     "data": {
      "text/html": [
       "<div>\n",
       "<style scoped>\n",
       "    .dataframe tbody tr th:only-of-type {\n",
       "        vertical-align: middle;\n",
       "    }\n",
       "\n",
       "    .dataframe tbody tr th {\n",
       "        vertical-align: top;\n",
       "    }\n",
       "\n",
       "    .dataframe thead th {\n",
       "        text-align: right;\n",
       "    }\n",
       "</style>\n",
       "<table border=\"1\" class=\"dataframe\">\n",
       "  <thead>\n",
       "    <tr style=\"text-align: right;\">\n",
       "      <th></th>\n",
       "      <th>GEOGRAFICO</th>\n",
       "      <th>CVEGEO</th>\n",
       "      <th>CODIGO</th>\n",
       "      <th>FECHAACT</th>\n",
       "      <th>INSTITUC</th>\n",
       "      <th>GEOMETRIA</th>\n",
       "      <th>geometry</th>\n",
       "    </tr>\n",
       "  </thead>\n",
       "  <tbody>\n",
       "    <tr>\n",
       "      <th>0</th>\n",
       "      <td>MANZANA</td>\n",
       "      <td>0600200010021005</td>\n",
       "      <td>6635</td>\n",
       "      <td>12/2007</td>\n",
       "      <td>INEGI</td>\n",
       "      <td>ÁREA</td>\n",
       "      <td>POLYGON ((636945.150 2128573.500, 636889.767 2...</td>\n",
       "    </tr>\n",
       "    <tr>\n",
       "      <th>1</th>\n",
       "      <td>MANZANA</td>\n",
       "      <td>0600200010021035</td>\n",
       "      <td>6635</td>\n",
       "      <td>12/2007</td>\n",
       "      <td>INEGI</td>\n",
       "      <td>ÁREA</td>\n",
       "      <td>POLYGON ((637006.408 2128673.951, 636964.017 2...</td>\n",
       "    </tr>\n",
       "    <tr>\n",
       "      <th>2</th>\n",
       "      <td>MANZANA</td>\n",
       "      <td>0600200010021039</td>\n",
       "      <td>6635</td>\n",
       "      <td>12/2007</td>\n",
       "      <td>INEGI</td>\n",
       "      <td>ÁREA</td>\n",
       "      <td>POLYGON ((636965.647 2129024.208, 636911.267 2...</td>\n",
       "    </tr>\n",
       "    <tr>\n",
       "      <th>3</th>\n",
       "      <td>MANZANA</td>\n",
       "      <td>0600200010021016</td>\n",
       "      <td>6635</td>\n",
       "      <td>12/2007</td>\n",
       "      <td>INEGI</td>\n",
       "      <td>ÁREA</td>\n",
       "      <td>POLYGON ((636891.517 2129081.208, 636880.397 2...</td>\n",
       "    </tr>\n",
       "    <tr>\n",
       "      <th>4</th>\n",
       "      <td>MANZANA</td>\n",
       "      <td>0600200010021024</td>\n",
       "      <td>6635</td>\n",
       "      <td>12/2007</td>\n",
       "      <td>INEGI</td>\n",
       "      <td>ÁREA</td>\n",
       "      <td>POLYGON ((637067.837 2129094.708, 637062.267 2...</td>\n",
       "    </tr>\n",
       "  </tbody>\n",
       "</table>\n",
       "</div>"
      ],
      "text/plain": [
       "  GEOGRAFICO            CVEGEO  CODIGO FECHAACT INSTITUC GEOMETRIA  \\\n",
       "0    MANZANA  0600200010021005    6635  12/2007    INEGI      ÁREA   \n",
       "1    MANZANA  0600200010021035    6635  12/2007    INEGI      ÁREA   \n",
       "2    MANZANA  0600200010021039    6635  12/2007    INEGI      ÁREA   \n",
       "3    MANZANA  0600200010021016    6635  12/2007    INEGI      ÁREA   \n",
       "4    MANZANA  0600200010021024    6635  12/2007    INEGI      ÁREA   \n",
       "\n",
       "                                            geometry  \n",
       "0  POLYGON ((636945.150 2128573.500, 636889.767 2...  \n",
       "1  POLYGON ((637006.408 2128673.951, 636964.017 2...  \n",
       "2  POLYGON ((636965.647 2129024.208, 636911.267 2...  \n",
       "3  POLYGON ((636891.517 2129081.208, 636880.397 2...  \n",
       "4  POLYGON ((637067.837 2129094.708, 637062.267 2...  "
      ]
     },
     "execution_count": 6,
     "metadata": {},
     "output_type": "execute_result"
    }
   ],
   "source": [
    "ne_gpd = gpd.GeoDataFrame()\n",
    "\n",
    "for i in m:\n",
    "\n",
    "    gpd_i = gpd.read_file(i)\n",
    "    gpd_i = gpd_i.to_crs(epsg=32213)\n",
    "\n",
    "    ne_gpd = pd.concat([ne_gpd, gpd_i])\n",
    "\n",
    "ne_gpd.head()"
   ]
  },
  {
   "cell_type": "code",
   "execution_count": 7,
   "metadata": {},
   "outputs": [
    {
     "data": {
      "text/plain": [
       "Index(['GEOGRAFICO', 'CVEGEO', 'CODIGO', 'FECHAACT', 'INSTITUC', 'GEOMETRIA',\n",
       "       'geometry'],\n",
       "      dtype='object')"
      ]
     },
     "execution_count": 7,
     "metadata": {},
     "output_type": "execute_result"
    }
   ],
   "source": [
    "ne_gpd.columns"
   ]
  },
  {
   "cell_type": "code",
   "execution_count": 8,
   "metadata": {},
   "outputs": [
    {
     "data": {
      "text/plain": [
       "Index(['CVEGEO', 'NOM_ENT', 'NOM_MUN', 'NOM_LOC', 'CVE_AGEB', 'geometry'], dtype='object')"
      ]
     },
     "execution_count": 8,
     "metadata": {},
     "output_type": "execute_result"
    }
   ],
   "source": [
    "agebs_seleccionadas.columns"
   ]
  },
  {
   "cell_type": "code",
   "execution_count": 9,
   "metadata": {},
   "outputs": [
    {
     "name": "stderr",
     "output_type": "stream",
     "text": [
      "C:\\Users\\pedro\\AppData\\Roaming\\Python\\Python311\\site-packages\\IPython\\core\\interactiveshell.py:3448: FutureWarning: The `op` parameter is deprecated and will be removed in a future release. Please use the `predicate` parameter instead.\n",
      "  if await self.run_code(code, result, async_=asy):\n"
     ]
    },
    {
     "data": {
      "text/html": [
       "<div>\n",
       "<style scoped>\n",
       "    .dataframe tbody tr th:only-of-type {\n",
       "        vertical-align: middle;\n",
       "    }\n",
       "\n",
       "    .dataframe tbody tr th {\n",
       "        vertical-align: top;\n",
       "    }\n",
       "\n",
       "    .dataframe thead th {\n",
       "        text-align: right;\n",
       "    }\n",
       "</style>\n",
       "<table border=\"1\" class=\"dataframe\">\n",
       "  <thead>\n",
       "    <tr style=\"text-align: right;\">\n",
       "      <th></th>\n",
       "      <th>GEOGRAFICO</th>\n",
       "      <th>CVEGEO_left</th>\n",
       "      <th>CODIGO</th>\n",
       "      <th>FECHAACT</th>\n",
       "      <th>INSTITUC</th>\n",
       "      <th>GEOMETRIA</th>\n",
       "      <th>geometry</th>\n",
       "      <th>index_right</th>\n",
       "      <th>CVEGEO_right</th>\n",
       "      <th>NOM_ENT</th>\n",
       "      <th>NOM_MUN</th>\n",
       "      <th>NOM_LOC</th>\n",
       "      <th>CVE_AGEB</th>\n",
       "    </tr>\n",
       "  </thead>\n",
       "  <tbody>\n",
       "    <tr>\n",
       "      <th>424</th>\n",
       "      <td>MANZANA</td>\n",
       "      <td>0600200010731005</td>\n",
       "      <td>6635</td>\n",
       "      <td>12/2007</td>\n",
       "      <td>INEGI</td>\n",
       "      <td>ÁREA</td>\n",
       "      <td>POLYGON ((632886.958 2128605.709, 632793.588 2...</td>\n",
       "      <td>1</td>\n",
       "      <td>0600200010731</td>\n",
       "      <td>Colima</td>\n",
       "      <td>Colima</td>\n",
       "      <td>Colima</td>\n",
       "      <td>0731</td>\n",
       "    </tr>\n",
       "    <tr>\n",
       "      <th>426</th>\n",
       "      <td>MANZANA</td>\n",
       "      <td>0600200010731016</td>\n",
       "      <td>6635</td>\n",
       "      <td>12/2007</td>\n",
       "      <td>INEGI</td>\n",
       "      <td>ÁREA</td>\n",
       "      <td>POLYGON ((632415.018 2128767.958, 632395.268 2...</td>\n",
       "      <td>1</td>\n",
       "      <td>0600200010731</td>\n",
       "      <td>Colima</td>\n",
       "      <td>Colima</td>\n",
       "      <td>Colima</td>\n",
       "      <td>0731</td>\n",
       "    </tr>\n",
       "    <tr>\n",
       "      <th>428</th>\n",
       "      <td>MANZANA</td>\n",
       "      <td>0600200010731013</td>\n",
       "      <td>6635</td>\n",
       "      <td>12/2007</td>\n",
       "      <td>INEGI</td>\n",
       "      <td>ÁREA</td>\n",
       "      <td>POLYGON ((632499.268 2128781.458, 632419.518 2...</td>\n",
       "      <td>1</td>\n",
       "      <td>0600200010731</td>\n",
       "      <td>Colima</td>\n",
       "      <td>Colima</td>\n",
       "      <td>Colima</td>\n",
       "      <td>0731</td>\n",
       "    </tr>\n",
       "    <tr>\n",
       "      <th>430</th>\n",
       "      <td>MANZANA</td>\n",
       "      <td>0600200010731010</td>\n",
       "      <td>6635</td>\n",
       "      <td>12/2007</td>\n",
       "      <td>INEGI</td>\n",
       "      <td>ÁREA</td>\n",
       "      <td>POLYGON ((632525.018 2128812.708, 632506.838 2...</td>\n",
       "      <td>1</td>\n",
       "      <td>0600200010731</td>\n",
       "      <td>Colima</td>\n",
       "      <td>Colima</td>\n",
       "      <td>Colima</td>\n",
       "      <td>0731</td>\n",
       "    </tr>\n",
       "    <tr>\n",
       "      <th>432</th>\n",
       "      <td>MANZANA</td>\n",
       "      <td>0600200010731035</td>\n",
       "      <td>6635</td>\n",
       "      <td>12/2007</td>\n",
       "      <td>INEGI</td>\n",
       "      <td>ÁREA</td>\n",
       "      <td>POLYGON ((632703.338 2128397.209, 632547.338 2...</td>\n",
       "      <td>1</td>\n",
       "      <td>0600200010731</td>\n",
       "      <td>Colima</td>\n",
       "      <td>Colima</td>\n",
       "      <td>Colima</td>\n",
       "      <td>0731</td>\n",
       "    </tr>\n",
       "  </tbody>\n",
       "</table>\n",
       "</div>"
      ],
      "text/plain": [
       "    GEOGRAFICO       CVEGEO_left  CODIGO FECHAACT INSTITUC GEOMETRIA  \\\n",
       "424    MANZANA  0600200010731005    6635  12/2007    INEGI      ÁREA   \n",
       "426    MANZANA  0600200010731016    6635  12/2007    INEGI      ÁREA   \n",
       "428    MANZANA  0600200010731013    6635  12/2007    INEGI      ÁREA   \n",
       "430    MANZANA  0600200010731010    6635  12/2007    INEGI      ÁREA   \n",
       "432    MANZANA  0600200010731035    6635  12/2007    INEGI      ÁREA   \n",
       "\n",
       "                                              geometry  index_right  \\\n",
       "424  POLYGON ((632886.958 2128605.709, 632793.588 2...            1   \n",
       "426  POLYGON ((632415.018 2128767.958, 632395.268 2...            1   \n",
       "428  POLYGON ((632499.268 2128781.458, 632419.518 2...            1   \n",
       "430  POLYGON ((632525.018 2128812.708, 632506.838 2...            1   \n",
       "432  POLYGON ((632703.338 2128397.209, 632547.338 2...            1   \n",
       "\n",
       "      CVEGEO_right NOM_ENT NOM_MUN NOM_LOC CVE_AGEB  \n",
       "424  0600200010731  Colima  Colima  Colima     0731  \n",
       "426  0600200010731  Colima  Colima  Colima     0731  \n",
       "428  0600200010731  Colima  Colima  Colima     0731  \n",
       "430  0600200010731  Colima  Colima  Colima     0731  \n",
       "432  0600200010731  Colima  Colima  Colima     0731  "
      ]
     },
     "execution_count": 9,
     "metadata": {},
     "output_type": "execute_result"
    }
   ],
   "source": [
    "# keep elements from calles that intersect with agebs_seleccionadas\n",
    "calles2 = gpd.sjoin(ne_gpd, agebs_seleccionadas, how=\"inner\", op='intersects')\n",
    "calles2.head()"
   ]
  },
  {
   "cell_type": "code",
   "execution_count": 10,
   "metadata": {},
   "outputs": [
    {
     "data": {
      "image/png": "[encoded data removed]",
      "text/plain": [
       "<Figure size 1000x1000 with 1 Axes>"
      ]
     },
     "metadata": {},
     "output_type": "display_data"
    }
   ],
   "source": [
    "fig, ax = plt.subplots(figsize=(10,10))\n",
    "\n",
    "calles2.plot(ax=ax, color='grey', alpha=0.5)\n",
    "#agebs_seleccionadas.plot(ax=ax, color='red', alpha=0.5)\n",
    "plt.show()"
   ]
  },
  {
   "cell_type": "code",
   "execution_count": null,
   "metadata": {},
   "outputs": [],
   "source": []
  },
  {
   "cell_type": "code",
   "execution_count": 11,
   "metadata": {},
   "outputs": [
    {
     "name": "stdout",
     "output_type": "stream",
     "text": [
      "<class 'geopandas.geodataframe.GeoDataFrame'>\n",
      "Index: 855 entries, 424 to 1960\n",
      "Data columns (total 13 columns):\n",
      " #   Column        Non-Null Count  Dtype   \n",
      "---  ------        --------------  -----   \n",
      " 0   GEOGRAFICO    855 non-null    object  \n",
      " 1   CVEGEO_left   855 non-null    object  \n",
      " 2   CODIGO        855 non-null    int64   \n",
      " 3   FECHAACT      855 non-null    object  \n",
      " 4   INSTITUC      855 non-null    object  \n",
      " 5   GEOMETRIA     855 non-null    object  \n",
      " 6   geometry      855 non-null    geometry\n",
      " 7   index_right   855 non-null    int64   \n",
      " 8   CVEGEO_right  855 non-null    object  \n",
      " 9   NOM_ENT       855 non-null    object  \n",
      " 10  NOM_MUN       855 non-null    object  \n",
      " 11  NOM_LOC       855 non-null    object  \n",
      " 12  CVE_AGEB      855 non-null    object  \n",
      "dtypes: geometry(1), int64(2), object(10)\n",
      "memory usage: 93.5+ KB\n"
     ]
    }
   ],
   "source": [
    "calles2.info()"
   ]
  },
  {
   "cell_type": "code",
   "execution_count": 18,
   "metadata": {},
   "outputs": [],
   "source": [
    "calles2[\"CVE_MANZANA\"] = calles2[\"CVEGEO_left\"].str[-3:]"
   ]
  },
  {
   "cell_type": "code",
   "execution_count": 19,
   "metadata": {},
   "outputs": [
    {
     "data": {
      "text/html": [
       "<div>\n",
       "<style scoped>\n",
       "    .dataframe tbody tr th:only-of-type {\n",
       "        vertical-align: middle;\n",
       "    }\n",
       "\n",
       "    .dataframe tbody tr th {\n",
       "        vertical-align: top;\n",
       "    }\n",
       "\n",
       "    .dataframe thead th {\n",
       "        text-align: right;\n",
       "    }\n",
       "</style>\n",
       "<table border=\"1\" class=\"dataframe\">\n",
       "  <thead>\n",
       "    <tr style=\"text-align: right;\">\n",
       "      <th></th>\n",
       "      <th>GEOGRAFICO</th>\n",
       "      <th>CVEGEO_left</th>\n",
       "      <th>CODIGO</th>\n",
       "      <th>FECHAACT</th>\n",
       "      <th>INSTITUC</th>\n",
       "      <th>GEOMETRIA</th>\n",
       "      <th>geometry</th>\n",
       "      <th>index_right</th>\n",
       "      <th>CVEGEO_right</th>\n",
       "      <th>NOM_ENT</th>\n",
       "      <th>NOM_MUN</th>\n",
       "      <th>NOM_LOC</th>\n",
       "      <th>CVE_AGEB</th>\n",
       "      <th>CVE_MANZANA</th>\n",
       "    </tr>\n",
       "  </thead>\n",
       "  <tbody>\n",
       "    <tr>\n",
       "      <th>424</th>\n",
       "      <td>MANZANA</td>\n",
       "      <td>0600200010731005</td>\n",
       "      <td>6635</td>\n",
       "      <td>12/2007</td>\n",
       "      <td>INEGI</td>\n",
       "      <td>ÁREA</td>\n",
       "      <td>POLYGON ((632886.958 2128605.709, 632793.588 2...</td>\n",
       "      <td>1</td>\n",
       "      <td>0600200010731</td>\n",
       "      <td>Colima</td>\n",
       "      <td>Colima</td>\n",
       "      <td>Colima</td>\n",
       "      <td>0731</td>\n",
       "      <td>005</td>\n",
       "    </tr>\n",
       "    <tr>\n",
       "      <th>426</th>\n",
       "      <td>MANZANA</td>\n",
       "      <td>0600200010731016</td>\n",
       "      <td>6635</td>\n",
       "      <td>12/2007</td>\n",
       "      <td>INEGI</td>\n",
       "      <td>ÁREA</td>\n",
       "      <td>POLYGON ((632415.018 2128767.958, 632395.268 2...</td>\n",
       "      <td>1</td>\n",
       "      <td>0600200010731</td>\n",
       "      <td>Colima</td>\n",
       "      <td>Colima</td>\n",
       "      <td>Colima</td>\n",
       "      <td>0731</td>\n",
       "      <td>016</td>\n",
       "    </tr>\n",
       "    <tr>\n",
       "      <th>428</th>\n",
       "      <td>MANZANA</td>\n",
       "      <td>0600200010731013</td>\n",
       "      <td>6635</td>\n",
       "      <td>12/2007</td>\n",
       "      <td>INEGI</td>\n",
       "      <td>ÁREA</td>\n",
       "      <td>POLYGON ((632499.268 2128781.458, 632419.518 2...</td>\n",
       "      <td>1</td>\n",
       "      <td>0600200010731</td>\n",
       "      <td>Colima</td>\n",
       "      <td>Colima</td>\n",
       "      <td>Colima</td>\n",
       "      <td>0731</td>\n",
       "      <td>013</td>\n",
       "    </tr>\n",
       "    <tr>\n",
       "      <th>430</th>\n",
       "      <td>MANZANA</td>\n",
       "      <td>0600200010731010</td>\n",
       "      <td>6635</td>\n",
       "      <td>12/2007</td>\n",
       "      <td>INEGI</td>\n",
       "      <td>ÁREA</td>\n",
       "      <td>POLYGON ((632525.018 2128812.708, 632506.838 2...</td>\n",
       "      <td>1</td>\n",
       "      <td>0600200010731</td>\n",
       "      <td>Colima</td>\n",
       "      <td>Colima</td>\n",
       "      <td>Colima</td>\n",
       "      <td>0731</td>\n",
       "      <td>010</td>\n",
       "    </tr>\n",
       "    <tr>\n",
       "      <th>432</th>\n",
       "      <td>MANZANA</td>\n",
       "      <td>0600200010731035</td>\n",
       "      <td>6635</td>\n",
       "      <td>12/2007</td>\n",
       "      <td>INEGI</td>\n",
       "      <td>ÁREA</td>\n",
       "      <td>POLYGON ((632703.338 2128397.209, 632547.338 2...</td>\n",
       "      <td>1</td>\n",
       "      <td>0600200010731</td>\n",
       "      <td>Colima</td>\n",
       "      <td>Colima</td>\n",
       "      <td>Colima</td>\n",
       "      <td>0731</td>\n",
       "      <td>035</td>\n",
       "    </tr>\n",
       "  </tbody>\n",
       "</table>\n",
       "</div>"
      ],
      "text/plain": [
       "    GEOGRAFICO       CVEGEO_left  CODIGO FECHAACT INSTITUC GEOMETRIA  \\\n",
       "424    MANZANA  0600200010731005    6635  12/2007    INEGI      ÁREA   \n",
       "426    MANZANA  0600200010731016    6635  12/2007    INEGI      ÁREA   \n",
       "428    MANZANA  0600200010731013    6635  12/2007    INEGI      ÁREA   \n",
       "430    MANZANA  0600200010731010    6635  12/2007    INEGI      ÁREA   \n",
       "432    MANZANA  0600200010731035    6635  12/2007    INEGI      ÁREA   \n",
       "\n",
       "                                              geometry  index_right  \\\n",
       "424  POLYGON ((632886.958 2128605.709, 632793.588 2...            1   \n",
       "426  POLYGON ((632415.018 2128767.958, 632395.268 2...            1   \n",
       "428  POLYGON ((632499.268 2128781.458, 632419.518 2...            1   \n",
       "430  POLYGON ((632525.018 2128812.708, 632506.838 2...            1   \n",
       "432  POLYGON ((632703.338 2128397.209, 632547.338 2...            1   \n",
       "\n",
       "      CVEGEO_right NOM_ENT NOM_MUN NOM_LOC CVE_AGEB CVE_MANZANA  \n",
       "424  0600200010731  Colima  Colima  Colima     0731         005  \n",
       "426  0600200010731  Colima  Colima  Colima     0731         016  \n",
       "428  0600200010731  Colima  Colima  Colima     0731         013  \n",
       "430  0600200010731  Colima  Colima  Colima     0731         010  \n",
       "432  0600200010731  Colima  Colima  Colima     0731         035  "
      ]
     },
     "execution_count": 19,
     "metadata": {},
     "output_type": "execute_result"
    }
   ],
   "source": [
    "calles2.head()"
   ]
  },
  {
   "cell_type": "code",
   "execution_count": 20,
   "metadata": {},
   "outputs": [
    {
     "data": {
      "text/html": [
       "<div>\n",
       "<style scoped>\n",
       "    .dataframe tbody tr th:only-of-type {\n",
       "        vertical-align: middle;\n",
       "    }\n",
       "\n",
       "    .dataframe tbody tr th {\n",
       "        vertical-align: top;\n",
       "    }\n",
       "\n",
       "    .dataframe thead th {\n",
       "        text-align: right;\n",
       "    }\n",
       "</style>\n",
       "<table border=\"1\" class=\"dataframe\">\n",
       "  <thead>\n",
       "    <tr style=\"text-align: right;\">\n",
       "      <th></th>\n",
       "      <th>CVE_MANZANA</th>\n",
       "      <th>CVE_AGEB</th>\n",
       "      <th>NOM_LOC</th>\n",
       "      <th>NOM_MUN</th>\n",
       "      <th>CVEGEO_left</th>\n",
       "      <th>geometry</th>\n",
       "    </tr>\n",
       "  </thead>\n",
       "  <tbody>\n",
       "    <tr>\n",
       "      <th>424</th>\n",
       "      <td>005</td>\n",
       "      <td>0731</td>\n",
       "      <td>Colima</td>\n",
       "      <td>Colima</td>\n",
       "      <td>0600200010731005</td>\n",
       "      <td>POLYGON ((632886.958 2128605.709, 632793.588 2...</td>\n",
       "    </tr>\n",
       "    <tr>\n",
       "      <th>426</th>\n",
       "      <td>016</td>\n",
       "      <td>0731</td>\n",
       "      <td>Colima</td>\n",
       "      <td>Colima</td>\n",
       "      <td>0600200010731016</td>\n",
       "      <td>POLYGON ((632415.018 2128767.958, 632395.268 2...</td>\n",
       "    </tr>\n",
       "    <tr>\n",
       "      <th>428</th>\n",
       "      <td>013</td>\n",
       "      <td>0731</td>\n",
       "      <td>Colima</td>\n",
       "      <td>Colima</td>\n",
       "      <td>0600200010731013</td>\n",
       "      <td>POLYGON ((632499.268 2128781.458, 632419.518 2...</td>\n",
       "    </tr>\n",
       "    <tr>\n",
       "      <th>430</th>\n",
       "      <td>010</td>\n",
       "      <td>0731</td>\n",
       "      <td>Colima</td>\n",
       "      <td>Colima</td>\n",
       "      <td>0600200010731010</td>\n",
       "      <td>POLYGON ((632525.018 2128812.708, 632506.838 2...</td>\n",
       "    </tr>\n",
       "    <tr>\n",
       "      <th>432</th>\n",
       "      <td>035</td>\n",
       "      <td>0731</td>\n",
       "      <td>Colima</td>\n",
       "      <td>Colima</td>\n",
       "      <td>0600200010731035</td>\n",
       "      <td>POLYGON ((632703.338 2128397.209, 632547.338 2...</td>\n",
       "    </tr>\n",
       "    <tr>\n",
       "      <th>...</th>\n",
       "      <td>...</td>\n",
       "      <td>...</td>\n",
       "      <td>...</td>\n",
       "      <td>...</td>\n",
       "      <td>...</td>\n",
       "      <td>...</td>\n",
       "    </tr>\n",
       "    <tr>\n",
       "      <th>1945</th>\n",
       "      <td>006</td>\n",
       "      <td>0979</td>\n",
       "      <td>Ciudad de Villa de Álvarez</td>\n",
       "      <td>Villa de Álvarez</td>\n",
       "      <td>0601000010979006</td>\n",
       "      <td>POLYGON ((630879.122 2128291.556, 630879.605 2...</td>\n",
       "    </tr>\n",
       "    <tr>\n",
       "      <th>1946</th>\n",
       "      <td>001</td>\n",
       "      <td>0979</td>\n",
       "      <td>Ciudad de Villa de Álvarez</td>\n",
       "      <td>Villa de Álvarez</td>\n",
       "      <td>0601000010979001</td>\n",
       "      <td>POLYGON ((630935.603 2128285.965, 630930.902 2...</td>\n",
       "    </tr>\n",
       "    <tr>\n",
       "      <th>1947</th>\n",
       "      <td>008</td>\n",
       "      <td>0979</td>\n",
       "      <td>Ciudad de Villa de Álvarez</td>\n",
       "      <td>Villa de Álvarez</td>\n",
       "      <td>0601000010979008</td>\n",
       "      <td>POLYGON ((630942.358 2128340.614, 630944.846 2...</td>\n",
       "    </tr>\n",
       "    <tr>\n",
       "      <th>1948</th>\n",
       "      <td>007</td>\n",
       "      <td>0979</td>\n",
       "      <td>Ciudad de Villa de Álvarez</td>\n",
       "      <td>Villa de Álvarez</td>\n",
       "      <td>0601000010979007</td>\n",
       "      <td>POLYGON ((630893.974 2128345.423, 630895.040 2...</td>\n",
       "    </tr>\n",
       "    <tr>\n",
       "      <th>1960</th>\n",
       "      <td>009</td>\n",
       "      <td>0979</td>\n",
       "      <td>Ciudad de Villa de Álvarez</td>\n",
       "      <td>Villa de Álvarez</td>\n",
       "      <td>0601000010979009</td>\n",
       "      <td>POLYGON ((631267.050 2128260.920, 631184.874 2...</td>\n",
       "    </tr>\n",
       "  </tbody>\n",
       "</table>\n",
       "<p>855 rows × 6 columns</p>\n",
       "</div>"
      ],
      "text/plain": [
       "     CVE_MANZANA CVE_AGEB                     NOM_LOC           NOM_MUN  \\\n",
       "424          005     0731                      Colima            Colima   \n",
       "426          016     0731                      Colima            Colima   \n",
       "428          013     0731                      Colima            Colima   \n",
       "430          010     0731                      Colima            Colima   \n",
       "432          035     0731                      Colima            Colima   \n",
       "...          ...      ...                         ...               ...   \n",
       "1945         006     0979  Ciudad de Villa de Álvarez  Villa de Álvarez   \n",
       "1946         001     0979  Ciudad de Villa de Álvarez  Villa de Álvarez   \n",
       "1947         008     0979  Ciudad de Villa de Álvarez  Villa de Álvarez   \n",
       "1948         007     0979  Ciudad de Villa de Álvarez  Villa de Álvarez   \n",
       "1960         009     0979  Ciudad de Villa de Álvarez  Villa de Álvarez   \n",
       "\n",
       "           CVEGEO_left                                           geometry  \n",
       "424   0600200010731005  POLYGON ((632886.958 2128605.709, 632793.588 2...  \n",
       "426   0600200010731016  POLYGON ((632415.018 2128767.958, 632395.268 2...  \n",
       "428   0600200010731013  POLYGON ((632499.268 2128781.458, 632419.518 2...  \n",
       "430   0600200010731010  POLYGON ((632525.018 2128812.708, 632506.838 2...  \n",
       "432   0600200010731035  POLYGON ((632703.338 2128397.209, 632547.338 2...  \n",
       "...                ...                                                ...  \n",
       "1945  0601000010979006  POLYGON ((630879.122 2128291.556, 630879.605 2...  \n",
       "1946  0601000010979001  POLYGON ((630935.603 2128285.965, 630930.902 2...  \n",
       "1947  0601000010979008  POLYGON ((630942.358 2128340.614, 630944.846 2...  \n",
       "1948  0601000010979007  POLYGON ((630893.974 2128345.423, 630895.040 2...  \n",
       "1960  0601000010979009  POLYGON ((631267.050 2128260.920, 631184.874 2...  \n",
       "\n",
       "[855 rows x 6 columns]"
      ]
     },
     "execution_count": 20,
     "metadata": {},
     "output_type": "execute_result"
    }
   ],
   "source": [
    "columns_to_keep = ['CVE_MANZANA','CVE_AGEB','NOM_LOC', 'NOM_MUN',\"CVEGEO_left\",'geometry']\n",
    "calles3 = calles2[columns_to_keep]\n",
    "calles3"
   ]
  },
  {
   "cell_type": "code",
   "execution_count": 22,
   "metadata": {},
   "outputs": [],
   "source": [
    "calles3 = calles3.to_crs(epsg=4326)"
   ]
  },
  {
   "cell_type": "code",
   "execution_count": 21,
   "metadata": {},
   "outputs": [
    {
     "data": {
      "text/plain": [
       "NOM_LOC\n",
       "Ciudad de Villa de Álvarez    164\n",
       "Colima                        162\n",
       "Cuauhtémoc                    145\n",
       "Minatitlán                    129\n",
       "Manzanillo                    113\n",
       "Tecomán                       102\n",
       "Quesería                       40\n",
       "Name: count, dtype: int64"
      ]
     },
     "execution_count": 21,
     "metadata": {},
     "output_type": "execute_result"
    }
   ],
   "source": [
    "calles3[\"NOM_LOC\"].value_counts()"
   ]
  },
  {
   "cell_type": "code",
   "execution_count": 23,
   "metadata": {},
   "outputs": [
    {
     "name": "stdout",
     "output_type": "stream",
     "text": [
      "<class 'geopandas.geodataframe.GeoDataFrame'>\n",
      "Index: 855 entries, 424 to 1960\n",
      "Data columns (total 6 columns):\n",
      " #   Column       Non-Null Count  Dtype   \n",
      "---  ------       --------------  -----   \n",
      " 0   CVE_MANZANA  855 non-null    object  \n",
      " 1   CVE_AGEB     855 non-null    object  \n",
      " 2   NOM_LOC      855 non-null    object  \n",
      " 3   NOM_MUN      855 non-null    object  \n",
      " 4   CVEGEO_left  855 non-null    object  \n",
      " 5   geometry     855 non-null    geometry\n",
      "dtypes: geometry(1), object(5)\n",
      "memory usage: 46.8+ KB\n"
     ]
    }
   ],
   "source": [
    "calles3.info()"
   ]
  },
  {
   "cell_type": "code",
   "execution_count": 28,
   "metadata": {},
   "outputs": [
    {
     "data": {
      "text/plain": [
       "Index(['CVE_MANZANA', 'CVE_AGEB', 'NOM_LOC', 'NOM_MUN', 'CVEGEO_left',\n",
       "       'geometry'],\n",
       "      dtype='object')"
      ]
     },
     "execution_count": 28,
     "metadata": {},
     "output_type": "execute_result"
    }
   ],
   "source": [
    "calles3.columns "
   ]
  },
  {
   "cell_type": "code",
   "execution_count": 24,
   "metadata": {},
   "outputs": [],
   "source": [
    "# export calles3 to geojson\n",
    "calles3.to_file(\"data/calles3.geojson\", driver='GeoJSON')"
   ]
  },
  {
   "cell_type": "code",
   "execution_count": 27,
   "metadata": {},
   "outputs": [],
   "source": [
    "# export calles3 to json\n",
    "calles3.to_file(\"data/calles3.json\", orient=\"records\")"
   ]
  },
  {
   "cell_type": "code",
   "execution_count": null,
   "metadata": {},
   "outputs": [],
   "source": []
  }
 ],
 "metadata": {
  "kernelspec": {
   "display_name": "Python 3",
   "language": "python",
   "name": "python3"
  },
  "language_info": {
   "codemirror_mode": {
    "name": "ipython",
    "version": 3
   },
   "file_extension": ".py",
   "mimetype": "text/x-python",
   "name": "python",
   "nbconvert_exporter": "python",
   "pygments_lexer": "ipython3",
   "version": "3.11.3"
  },
  "orig_nbformat": 4
 },
 "nbformat": 4,
 "nbformat_minor": 2
}
