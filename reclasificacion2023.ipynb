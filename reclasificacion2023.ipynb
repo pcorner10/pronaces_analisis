{
 "cells": [
  {
   "attachments": {},
   "cell_type": "markdown",
   "metadata": {},
   "source": [
    "# Reclasificación de AGEBS\n",
    "Este es un nuevo repositorio para la reclasificación de AGEBS. El objetivo es crear un nuevo conjunto de AGEBS que sea más homogéneo y que permita una mejor comparación entre las diferentes variables de interés."
   ]
  },
  {
   "attachments": {},
   "cell_type": "markdown",
   "metadata": {},
   "source": [
    "## Carga de librerías"
   ]
  },
  {
   "cell_type": "code",
   "execution_count": 2,
   "metadata": {},
   "outputs": [],
   "source": [
    "import pandas as pd\n",
    "import geopandas as gpd\n",
    "import matplotlib.pyplot as plt\n",
    "import seaborn as sns\n",
    "import numpy as np\n",
    "import rasterio, glob\n",
    "import contextily as cxt"
   ]
  },
  {
   "attachments": {},
   "cell_type": "markdown",
   "metadata": {},
   "source": [
    "## Carga de datos"
   ]
  },
  {
   "cell_type": "code",
   "execution_count": 13,
   "metadata": {},
   "outputs": [],
   "source": [
    "rename_quimicos = {\n",
    "  'co': '$CO$',\n",
    "  'hcho': '$HCHO$',\n",
    "  'o3': '$O_3$',\n",
    "  'so2': '$SO_2$',\n",
    "  'no2': '$NO_2$'\n",
    "}"
   ]
  },
  {
   "attachments": {},
   "cell_type": "markdown",
   "metadata": {},
   "source": [
    "### Datos de SENTINEL"
   ]
  },
  {
   "cell_type": "code",
   "execution_count": 6,
   "metadata": {},
   "outputs": [
    {
     "data": {
      "text/plain": [
       "['data/sentinel/AGEBS/month\\\\sum_CO_2018-11-01.csv',\n",
       " 'data/sentinel/AGEBS/month\\\\sum_CO_2018-12-01.csv',\n",
       " 'data/sentinel/AGEBS/month\\\\sum_CO_2019-01-01.csv',\n",
       " 'data/sentinel/AGEBS/month\\\\sum_CO_2019-02-01.csv',\n",
       " 'data/sentinel/AGEBS/month\\\\sum_CO_2019-03-01.csv']"
      ]
     },
     "execution_count": 6,
     "metadata": {},
     "output_type": "execute_result"
    }
   ],
   "source": [
    "sentinel_dir = \"data/sentinel/AGEBS/month/*.csv\"\n",
    "sentinel_files = glob.glob(sentinel_dir)\n",
    "sentinel_files.sort()\n",
    "sentinel_files[:5]"
   ]
  },
  {
   "cell_type": "code",
   "execution_count": 7,
   "metadata": {},
   "outputs": [
    {
     "data": {
      "text/html": [
       "<div>\n",
       "<style scoped>\n",
       "    .dataframe tbody tr th:only-of-type {\n",
       "        vertical-align: middle;\n",
       "    }\n",
       "\n",
       "    .dataframe tbody tr th {\n",
       "        vertical-align: top;\n",
       "    }\n",
       "\n",
       "    .dataframe thead th {\n",
       "        text-align: right;\n",
       "    }\n",
       "</style>\n",
       "<table border=\"1\" class=\"dataframe\">\n",
       "  <thead>\n",
       "    <tr style=\"text-align: right;\">\n",
       "      <th></th>\n",
       "      <th>sum</th>\n",
       "      <th>CVE_LOC</th>\n",
       "      <th>CVE_MUN</th>\n",
       "      <th>CVE_ENT</th>\n",
       "      <th>CVEGEO</th>\n",
       "      <th>CVE_AGEB</th>\n",
       "      <th>system:index</th>\n",
       "    </tr>\n",
       "  </thead>\n",
       "  <tbody>\n",
       "    <tr>\n",
       "      <th>0</th>\n",
       "      <td>0.052075</td>\n",
       "      <td>1</td>\n",
       "      <td>1</td>\n",
       "      <td>6</td>\n",
       "      <td>0600100010081</td>\n",
       "      <td>0081</td>\n",
       "      <td>00000000000000000000</td>\n",
       "    </tr>\n",
       "    <tr>\n",
       "      <th>1</th>\n",
       "      <td>0.023302</td>\n",
       "      <td>1</td>\n",
       "      <td>1</td>\n",
       "      <td>6</td>\n",
       "      <td>060010001019A</td>\n",
       "      <td>019A</td>\n",
       "      <td>00000000000000000001</td>\n",
       "    </tr>\n",
       "    <tr>\n",
       "      <th>2</th>\n",
       "      <td>0.008745</td>\n",
       "      <td>1</td>\n",
       "      <td>1</td>\n",
       "      <td>6</td>\n",
       "      <td>0600100010359</td>\n",
       "      <td>0359</td>\n",
       "      <td>00000000000000000002</td>\n",
       "    </tr>\n",
       "    <tr>\n",
       "      <th>3</th>\n",
       "      <td>0.077275</td>\n",
       "      <td>1</td>\n",
       "      <td>1</td>\n",
       "      <td>6</td>\n",
       "      <td>0600100010151</td>\n",
       "      <td>0151</td>\n",
       "      <td>00000000000000000003</td>\n",
       "    </tr>\n",
       "    <tr>\n",
       "      <th>4</th>\n",
       "      <td>0.076924</td>\n",
       "      <td>1</td>\n",
       "      <td>1</td>\n",
       "      <td>6</td>\n",
       "      <td>0600100010166</td>\n",
       "      <td>0166</td>\n",
       "      <td>00000000000000000004</td>\n",
       "    </tr>\n",
       "  </tbody>\n",
       "</table>\n",
       "</div>"
      ],
      "text/plain": [
       "        sum  CVE_LOC  CVE_MUN  CVE_ENT         CVEGEO CVE_AGEB  \\\n",
       "0  0.052075        1        1        6  0600100010081     0081   \n",
       "1  0.023302        1        1        6  060010001019A     019A   \n",
       "2  0.008745        1        1        6  0600100010359     0359   \n",
       "3  0.077275        1        1        6  0600100010151     0151   \n",
       "4  0.076924        1        1        6  0600100010166     0166   \n",
       "\n",
       "           system:index  \n",
       "0  00000000000000000000  \n",
       "1  00000000000000000001  \n",
       "2  00000000000000000002  \n",
       "3  00000000000000000003  \n",
       "4  00000000000000000004  "
      ]
     },
     "execution_count": 7,
     "metadata": {},
     "output_type": "execute_result"
    }
   ],
   "source": [
    "pd.read_csv(sentinel_files[0]).head()"
   ]
  },
  {
   "cell_type": "code",
   "execution_count": 12,
   "metadata": {},
   "outputs": [
    {
     "data": {
      "text/plain": [
       "'CO'"
      ]
     },
     "execution_count": 12,
     "metadata": {},
     "output_type": "execute_result"
    }
   ],
   "source": [
    "sentinel_files[0].split(\"\\\\\")[1].split(\"_\")[1]"
   ]
  },
  {
   "cell_type": "code",
   "execution_count": 15,
   "metadata": {},
   "outputs": [
    {
     "data": {
      "text/html": [
       "<div>\n",
       "<style scoped>\n",
       "    .dataframe tbody tr th:only-of-type {\n",
       "        vertical-align: middle;\n",
       "    }\n",
       "\n",
       "    .dataframe tbody tr th {\n",
       "        vertical-align: top;\n",
       "    }\n",
       "\n",
       "    .dataframe thead th {\n",
       "        text-align: right;\n",
       "    }\n",
       "</style>\n",
       "<table border=\"1\" class=\"dataframe\">\n",
       "  <thead>\n",
       "    <tr style=\"text-align: right;\">\n",
       "      <th></th>\n",
       "      <th>sum</th>\n",
       "      <th>CVEGEO</th>\n",
       "      <th>quimico</th>\n",
       "    </tr>\n",
       "  </thead>\n",
       "  <tbody>\n",
       "    <tr>\n",
       "      <th>0</th>\n",
       "      <td>0.052075</td>\n",
       "      <td>0600100010081</td>\n",
       "      <td>$CO$</td>\n",
       "    </tr>\n",
       "    <tr>\n",
       "      <th>1</th>\n",
       "      <td>0.023302</td>\n",
       "      <td>060010001019A</td>\n",
       "      <td>$CO$</td>\n",
       "    </tr>\n",
       "    <tr>\n",
       "      <th>2</th>\n",
       "      <td>0.008745</td>\n",
       "      <td>0600100010359</td>\n",
       "      <td>$CO$</td>\n",
       "    </tr>\n",
       "    <tr>\n",
       "      <th>3</th>\n",
       "      <td>0.077275</td>\n",
       "      <td>0600100010151</td>\n",
       "      <td>$CO$</td>\n",
       "    </tr>\n",
       "    <tr>\n",
       "      <th>4</th>\n",
       "      <td>0.076924</td>\n",
       "      <td>0600100010166</td>\n",
       "      <td>$CO$</td>\n",
       "    </tr>\n",
       "  </tbody>\n",
       "</table>\n",
       "</div>"
      ],
      "text/plain": [
       "        sum         CVEGEO quimico\n",
       "0  0.052075  0600100010081    $CO$\n",
       "1  0.023302  060010001019A    $CO$\n",
       "2  0.008745  0600100010359    $CO$\n",
       "3  0.077275  0600100010151    $CO$\n",
       "4  0.076924  0600100010166    $CO$"
      ]
     },
     "execution_count": 15,
     "metadata": {},
     "output_type": "execute_result"
    }
   ],
   "source": [
    "def read_sentinel(files):\n",
    "  df_full = pd.DataFrame()\n",
    "  for f in files:\n",
    "    quimico = f.split(\"\\\\\")[1].split(\"_\")[1]\n",
    "    quimico = rename_quimicos[quimico.lower()]\n",
    "\n",
    "    cols_to_keep = [\"CVEGEO\", \"sum\"]\n",
    "    df = pd.read_csv(f, usecols=cols_to_keep)\n",
    "    df[\"quimico\"] = quimico\n",
    "    df_full = pd.concat([df_full, df])\n",
    "  return df_full\n",
    "\n",
    "df_sentinel = read_sentinel(sentinel_files)\n",
    "df_sentinel.head()"
   ]
  },
  {
   "cell_type": "code",
   "execution_count": null,
   "metadata": {},
   "outputs": [],
   "source": []
  }
 ],
 "metadata": {
  "kernelspec": {
   "display_name": "Python 3",
   "language": "python",
   "name": "python3"
  },
  "language_info": {
   "codemirror_mode": {
    "name": "ipython",
    "version": 3
   },
   "file_extension": ".py",
   "mimetype": "text/x-python",
   "name": "python",
   "nbconvert_exporter": "python",
   "pygments_lexer": "ipython3",
   "version": "3.10.8"
  },
  "orig_nbformat": 4,
  "vscode": {
   "interpreter": {
    "hash": "c3503f95e0e8f4afdf6702396a7a2a29cae9f67572acfe092405dcaa2579b817"
   }
  }
 },
 "nbformat": 4,
 "nbformat_minor": 2
}
